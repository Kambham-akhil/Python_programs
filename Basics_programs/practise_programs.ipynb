{
 "cells": [
  {
   "cell_type": "code",
   "execution_count": 6,
   "metadata": {},
   "outputs": [
    {
     "data": {
      "text/plain": [
       "'GoMrig'"
      ]
     },
     "execution_count": 6,
     "metadata": {},
     "output_type": "execute_result"
    }
   ],
   "source": [
    "n=\"GoodMorning\"\n",
    "n[0:10+1:2]"
   ]
  },
  {
   "cell_type": "code",
   "execution_count": null,
   "metadata": {},
   "outputs": [],
   "source": []
  },
  {
   "cell_type": "code",
   "execution_count": 7,
   "metadata": {},
   "outputs": [
    {
     "name": "stdout",
     "output_type": "stream",
     "text": [
      "goodapplemorning\n",
      "hellogoodapplemorning\n",
      "hehiiillo\n"
     ]
    }
   ],
   "source": [
    "n=\"goodmorning\"\n",
    "n=n[:4]+\"apple\"+n[4:]\n",
    "print(n)\n",
    "\n",
    "m=\"hello\"+n\n",
    "print(m)\n",
    "\n",
    "m=\"hello\"\n",
    "m=m[:len(m)//2]+\"hiii\"+m[len(m)//2:]\n",
    "print(m)\n"
   ]
  },
  {
   "cell_type": "code",
   "execution_count": 8,
   "metadata": {},
   "outputs": [
    {
     "name": "stdout",
     "output_type": "stream",
     "text": [
      "[50, 40, 10, 20, 30]\n"
     ]
    }
   ],
   "source": [
    "#10,20,30,40,50\n",
    "#50,40,10,20,30\n",
    "n=[10,20,30,40,50]\n",
    "n=n[-1:-3:-1]+n[0:3:1]\n",
    "print(n)"
   ]
  },
  {
   "cell_type": "code",
   "execution_count": 9,
   "metadata": {},
   "outputs": [
    {
     "name": "stdout",
     "output_type": "stream",
     "text": [
      "False\n"
     ]
    }
   ],
   "source": [
    "n=\"goodmorning\"\n",
    "m=n[-1]\n",
    "x=ord(m)\n",
    "print(ord(m)%5==0)"
   ]
  },
  {
   "cell_type": "code",
   "execution_count": 10,
   "metadata": {},
   "outputs": [
    {
     "name": "stdout",
     "output_type": "stream",
     "text": [
      "['1', '0', '0']\n"
     ]
    }
   ],
   "source": [
    "n=100\n",
    "print(list(str(n)))\n",
    "\n"
   ]
  },
  {
   "cell_type": "code",
   "execution_count": 11,
   "metadata": {},
   "outputs": [
    {
     "name": "stdout",
     "output_type": "stream",
     "text": [
      "['a', 'j']\n"
     ]
    },
    {
     "data": {
      "text/plain": [
       "['s', 't', 'r', 'z', 'n', 'g']"
      ]
     },
     "execution_count": 11,
     "metadata": {},
     "output_type": "execute_result"
    }
   ],
   "source": [
    "n=['a','b']\n",
    "n[1]='j'\n",
    "print(n)\n",
    "\n",
    "m=\"string\"\n",
    "k=list(m)\n",
    "k[3]='z'\n",
    "k"
   ]
  },
  {
   "cell_type": "code",
   "execution_count": 12,
   "metadata": {},
   "outputs": [
    {
     "data": {
      "text/plain": [
       "'stapplering'"
      ]
     },
     "execution_count": 12,
     "metadata": {},
     "output_type": "execute_result"
    }
   ],
   "source": [
    "s=\"string\"\n",
    "s=s[0:2]+\"apple\"+s[2:]\n",
    "s"
   ]
  },
  {
   "cell_type": "code",
   "execution_count": null,
   "metadata": {},
   "outputs": [],
   "source": []
  },
  {
   "cell_type": "code",
   "execution_count": null,
   "metadata": {},
   "outputs": [],
   "source": []
  },
  {
   "cell_type": "code",
   "execution_count": null,
   "metadata": {},
   "outputs": [],
   "source": []
  }
 ],
 "metadata": {
  "kernelspec": {
   "display_name": "Python 3",
   "language": "python",
   "name": "python3"
  },
  "language_info": {
   "codemirror_mode": {
    "name": "ipython",
    "version": 3
   },
   "file_extension": ".py",
   "mimetype": "text/x-python",
   "name": "python",
   "nbconvert_exporter": "python",
   "pygments_lexer": "ipython3",
   "version": "3.9.6"
  },
  "orig_nbformat": 4
 },
 "nbformat": 4,
 "nbformat_minor": 2
}
