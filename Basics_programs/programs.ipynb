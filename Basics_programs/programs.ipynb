{
 "cells": [
  {
   "cell_type": "code",
   "execution_count": 82,
   "metadata": {},
   "outputs": [
    {
     "name": "stdout",
     "output_type": "stream",
     "text": [
      "HELLO WORLD\n"
     ]
    }
   ],
   "source": [
    "#1. Write a statement(WAS) to print “Hello World” by using shell\n",
    "print(\"HELLO WORLD\")"
   ]
  },
  {
   "cell_type": "code",
   "execution_count": 83,
   "metadata": {},
   "outputs": [
    {
     "name": "stdout",
     "output_type": "stream",
     "text": [
      "HELLO WORLD\n"
     ]
    }
   ],
   "source": [
    "#2. WAS to print “Hello world” by using python print function\n",
    "a=\"HELLO WORLD\"\n",
    "print(a)"
   ]
  },
  {
   "cell_type": "code",
   "execution_count": 84,
   "metadata": {},
   "outputs": [
    {
     "name": "stdout",
     "output_type": "stream",
     "text": [
      "50\n"
     ]
    }
   ],
   "source": [
    "#3. WAS to initialize variable and value as 50.\n",
    "a=50\n",
    "print(a)"
   ]
  },
  {
   "cell_type": "code",
   "execution_count": 85,
   "metadata": {},
   "outputs": [
    {
     "name": "stdout",
     "output_type": "stream",
     "text": [
      "10\n",
      "20\n",
      "30\n",
      "40\n"
     ]
    }
   ],
   "source": [
    "#4. WAS to initialize multivariable value are 150,120,250(take your own variable names )\n",
    "a,b,c,d=10,20,30,40\n",
    "print(a)\n",
    "print(b)\n",
    "print(c)\n",
    "print(d)"
   ]
  },
  {
   "cell_type": "code",
   "execution_count": 86,
   "metadata": {},
   "outputs": [
    {
     "name": "stdout",
     "output_type": "stream",
     "text": [
      "<class 'int'>\n",
      "<class 'float'>\n",
      "<class 'complex'>\n",
      "<class 'bool'>\n",
      "<class 'list'>\n",
      "<class 'dict'>\n"
     ]
    }
   ],
   "source": [
    "#5. WAS to print the type of the data in the given value.\n",
    "a=10\n",
    "print(type(a))\n",
    "b=20.0\n",
    "print(type(b))\n",
    "c=5+2j\n",
    "print(type(c))\n",
    "d=True\n",
    "print(type(d))\n",
    "e=[10,20,3]\n",
    "print(type(e))\n",
    "f={'a':10,'b':20}\n",
    "print(type(f))"
   ]
  },
  {
   "cell_type": "code",
   "execution_count": 87,
   "metadata": {},
   "outputs": [
    {
     "name": "stdout",
     "output_type": "stream",
     "text": [
      "1797359954512\n",
      "1797443171600\n",
      "1795318425664\n"
     ]
    }
   ],
   "source": [
    "#6. WAS to print the address of the memory block in given value.\n",
    "a=10\n",
    "print(id(a))\n",
    "b=20.0\n",
    "print(id(b))\n",
    "c=[10,20,30]\n",
    "print(id(c))"
   ]
  },
  {
   "cell_type": "code",
   "execution_count": 88,
   "metadata": {},
   "outputs": [
    {
     "name": "stdout",
     "output_type": "stream",
     "text": [
      "Akhil 9848695214 hyd M\n"
     ]
    }
   ],
   "source": [
    "#7. WAS to print your details, first store your details, extract the values and display it.\n",
    "name=\"Akhil\"\n",
    "Con=\"9848695214\"\n",
    "add=\"hyd\"\n",
    "gender=\"M\"\n",
    "print(name,Con,add,gender)"
   ]
  },
  {
   "cell_type": "code",
   "execution_count": 89,
   "metadata": {},
   "outputs": [
    {
     "name": "stdout",
     "output_type": "stream",
     "text": [
      "20 10\n"
     ]
    }
   ],
   "source": [
    "#8. WAS to swap the two values. With a temp variable.\n",
    "a=10\n",
    "b=20\n",
    "c=a\n",
    "a=b\n",
    "b=c\n",
    "print(a,b)"
   ]
  },
  {
   "cell_type": "code",
   "execution_count": 90,
   "metadata": {},
   "outputs": [
    {
     "name": "stdout",
     "output_type": "stream",
     "text": [
      "20 20\n"
     ]
    }
   ],
   "source": [
    "#9. WAS to swap the two values without temp variable\n",
    "a=10\n",
    "b=20\n",
    "a=b\n",
    "b=a\n",
    "print(a,b)"
   ]
  },
  {
   "cell_type": "code",
   "execution_count": 91,
   "metadata": {},
   "outputs": [
    {
     "name": "stdout",
     "output_type": "stream",
     "text": [
      "10\n"
     ]
    },
    {
     "data": {
      "text/plain": [
       "10"
      ]
     },
     "execution_count": 91,
     "metadata": {},
     "output_type": "execute_result"
    }
   ],
   "source": [
    "#10. WAS to initialize a value and print the value, after print then reinitialize the new value to the existing variable and display the value.\n",
    "a=10\n",
    "print(a)\n",
    "a"
   ]
  },
  {
   "cell_type": "code",
   "execution_count": 92,
   "metadata": {},
   "outputs": [
    {
     "name": "stdout",
     "output_type": "stream",
     "text": [
      "['1', '0']\n"
     ]
    }
   ],
   "source": [
    "#11. WAS to convert single to multi value data type\n",
    "#I/p ⇒ a=10\n",
    "#o/p ⇒ [‘1’,’0’]\n",
    "a=10\n",
    "print(list(str(a)))"
   ]
  },
  {
   "cell_type": "code",
   "execution_count": 93,
   "metadata": {},
   "outputs": [
    {
     "name": "stdout",
     "output_type": "stream",
     "text": [
      "applegood\n",
      "[10, 20, 30, 40, 50]\n"
     ]
    }
   ],
   "source": [
    "#12. WAS to concat the two multi value data types(str , list, tuple, dict).\n",
    "a=\"apple\"\n",
    "a+=\"good\"\n",
    "print(a)\n",
    "a=[10,20,30]\n",
    "b=[40,50]\n",
    "c=a+b\n",
    "print(c)\n"
   ]
  },
  {
   "cell_type": "code",
   "execution_count": 94,
   "metadata": {},
   "outputs": [
    {
     "name": "stdout",
     "output_type": "stream",
     "text": [
      "12\n",
      "11\n"
     ]
    }
   ],
   "source": [
    "#13. WAC to perform the length of the collection.\n",
    "a=\"Good morning\"\n",
    "print(len(a))\n",
    "b=\"Goodmorning\"\n",
    "print(len(b))"
   ]
  },
  {
   "cell_type": "code",
   "execution_count": 95,
   "metadata": {},
   "outputs": [
    {
     "name": "stdout",
     "output_type": "stream",
     "text": [
      "30\n",
      "30\n"
     ]
    }
   ],
   "source": [
    "#14. WAC to find out the middle value of the given collection.\n",
    "l=[10,20,30,40,50]\n",
    "print(l[len(l)//2])\n",
    "\n",
    "l=[10,20,30,40]\n",
    "print(l[len(l)//2])"
   ]
  },
  {
   "cell_type": "code",
   "execution_count": 96,
   "metadata": {},
   "outputs": [
    {
     "name": "stdout",
     "output_type": "stream",
     "text": [
      "Goodmorning\n"
     ]
    }
   ],
   "source": [
    "#15. WAS to concat the new string into the starting of the given string.\n",
    "a=\"morning\"\n",
    "b=\"Good\"+a[::]\n",
    "print(b)\n"
   ]
  },
  {
   "cell_type": "code",
   "execution_count": 97,
   "metadata": {},
   "outputs": [
    {
     "name": "stdout",
     "output_type": "stream",
     "text": [
      "GoodMorning\n"
     ]
    }
   ],
   "source": [
    "#16. WAS to concat the new string into the ending of the given string.\n",
    "a=\"Good\"\n",
    "b=a[::]+\"Morning\"\n",
    "print(b)"
   ]
  },
  {
   "cell_type": "code",
   "execution_count": 98,
   "metadata": {},
   "outputs": [
    {
     "data": {
      "text/plain": [
       "'MorApplening'"
      ]
     },
     "execution_count": 98,
     "metadata": {},
     "output_type": "execute_result"
    }
   ],
   "source": [
    "#17. WAS to concat the new string into the middle of the given string.\n",
    "a=\"Morning\"\n",
    "a[0:3]+\"Apple\"+a[3:]"
   ]
  },
  {
   "cell_type": "code",
   "execution_count": 99,
   "metadata": {},
   "outputs": [
    {
     "name": "stdout",
     "output_type": "stream",
     "text": [
      "PYSPIDQRS\n",
      "PYSPIDQRS\n"
     ]
    }
   ],
   "source": [
    "#write a statement to replace the old character into a new character of the given string\n",
    "\n",
    "st=\"PYSPIDERS\"\n",
    "res = st[:-3]+\"Q\"+st[-2:]\n",
    "print(res)\n",
    "\n",
    "temp = st[:6]+\"Q\"+st[7:]\n",
    "print(temp)"
   ]
  },
  {
   "cell_type": "code",
   "execution_count": 100,
   "metadata": {},
   "outputs": [
    {
     "name": "stdout",
     "output_type": "stream",
     "text": [
      "QSPIERS\n"
     ]
    }
   ],
   "source": [
    "#WAS to delete the specific character int he given string\n",
    "st=\"QSPIDERS\"\n",
    "res=st[:4]+st[4+1:]\n",
    "print(res)\n"
   ]
  },
  {
   "cell_type": "code",
   "execution_count": 101,
   "metadata": {},
   "outputs": [
    {
     "name": "stdout",
     "output_type": "stream",
     "text": [
      "QSRS\n",
      "QSRS\n",
      "QSRS\n",
      "QSRS\n"
     ]
    }
   ],
   "source": [
    "#WAS to delete the sequence of characters int he given string\n",
    "st=\"QSPIDERS\"\n",
    "res=st[:2]+st[6:]\n",
    "print(res)\n",
    "\n",
    "res=st[:2]+st[-2:]\n",
    "print(res)\n",
    "\n",
    "res=st[:-6]+st[-2:]\n",
    "print(res)\n",
    "\n",
    "res=st[:-6]+st[6:]\n",
    "print(res)"
   ]
  },
  {
   "cell_type": "code",
   "execution_count": 102,
   "metadata": {},
   "outputs": [
    {
     "name": "stdout",
     "output_type": "stream",
     "text": [
      "QSPI123456DERS\n",
      "QSPI123456DERS\n",
      "SRED123456IPSQ\n",
      "SRED123456IPSQ\n"
     ]
    }
   ],
   "source": [
    "#WAS to concat the new stringinto the specific position of the given string\n",
    "st=\"QSPIDERS\"\n",
    "res=st[0:4]+\"123456\"+st[4:]\n",
    "print(res)\n",
    "\n",
    "res=st[0:-4]+\"123456\"+st[-4:]\n",
    "print(res)\n",
    "\n",
    "\n",
    "res=st[-1:-5:-1]+\"123456\"+st[-5::-1]\n",
    "print(res)\n",
    "\n",
    "res=st[:3:-1]+\"123456\"+st[3::-1]\n",
    "print(res)"
   ]
  },
  {
   "cell_type": "code",
   "execution_count": 103,
   "metadata": {},
   "outputs": [
    {
     "name": "stdout",
     "output_type": "stream",
     "text": [
      "[100, 200, 10, 20, 30, 'hello']\n",
      "[10, 20, 30, 'hello'] 1795318898752\n",
      "[100, 200, 10, 20, 30, 'hello'] 1795318898752\n",
      "[100, 200, 10, 20, 30, 'hello']\n"
     ]
    }
   ],
   "source": [
    "#WAS to concat the new value into the starting of the given list\n",
    "l=[10,20,30,\"hello\"]\n",
    "l=[100,200]+l\n",
    "print(l)\n",
    "\n",
    "l=[10,20,30,\"hello\"]\n",
    "print(l,id(l))\n",
    "l[0:0]=[100,200]\n",
    "print(l ,id(l))\n",
    "\n",
    "l=[10,20,30,\"hello\"]\n",
    "t=[100,200]\n",
    "t+=l\n",
    "print(t)"
   ]
  },
  {
   "cell_type": "code",
   "execution_count": 104,
   "metadata": {},
   "outputs": [
    {
     "name": "stdout",
     "output_type": "stream",
     "text": [
      "[10, 20, 30, 'hello', 100, 200]\n",
      "[10, 20, 30, 'hello'] 1795318687040\n",
      "[10, 20, 30, 'hello', 100, 200] 1795318687040\n",
      "[10, 20, 30, 'hello'] 1795318686848\n",
      "[10, 20, 30, 100, 200, 'hello'] 1795318686848\n",
      "[10, 20, 30, 'hello'] 1795318687040\n",
      "[10, 20, 30, 'hello', 100, 200] 1795318687040\n"
     ]
    }
   ],
   "source": [
    "#WAS to concat the new value into the ending of the given list\n",
    "l=[10,20,30,\"hello\"]\n",
    "l=l+[100,200]\n",
    "print(l)\n",
    "\n",
    "l=[10,20,30,\"hello\"]\n",
    "print(l,id(l))\n",
    "l+=[100,200]\n",
    "print(l,id(l))\n",
    "\n",
    "l=[10,20,30,\"hello\"]\n",
    "print(l,id(l))\n",
    "l[-1:-1]=[100,200]#it is not corret way\n",
    "print(l,id(l))\n",
    "\n",
    "l=[10,20,30,\"hello\"]\n",
    "print(l,id(l))\n",
    "l[len(l):len(l)]=[100,200]\n",
    "print(l,id(l))"
   ]
  },
  {
   "cell_type": "code",
   "execution_count": 105,
   "metadata": {},
   "outputs": [
    {
     "name": "stdout",
     "output_type": "stream",
     "text": [
      "[10, 20, 'A', 'hello', 100]\n",
      "[10, 20, 30, 'A', 'hello', 100, 200]\n",
      "[10, 20, 'A', 30, 'hello', 100]\n"
     ]
    }
   ],
   "source": [
    "#WAS to concat the new value into the middle of the given list\n",
    "l=[10,20,30,\"hello\",100]\n",
    "l[len(l)//2]='A'\n",
    "print(l)\n",
    "\n",
    "l=[10,20,30,\"hello\",100,200]\n",
    "l[len(l)//2:len(l)//2]=['A']\n",
    "print(l)\n",
    "\n",
    "l=[10,20,30,\"hello\",100]\n",
    "l[len(l)//2:len(l)//2]=['A']\n",
    "print(l)"
   ]
  },
  {
   "cell_type": "code",
   "execution_count": 106,
   "metadata": {},
   "outputs": [
    {
     "name": "stdout",
     "output_type": "stream",
     "text": [
      "[10, 20, 'world', 30]\n",
      "[10, 20, 'hello', 'world', 'hello', 30]\n",
      "[10, 'world', 'hello', 30]\n",
      "[10, 20, 500, 30]\n",
      "[10, 200, 'hello', 30]\n"
     ]
    }
   ],
   "source": [
    "#WAS to modify the new value into the specific position of the given list\n",
    "\n",
    "l=[10,20,\"hello\",30]\n",
    "l[2]=\"world\"\n",
    "print(l)\n",
    "\n",
    "l=[10,20,\"hello\",30]\n",
    "l[2:2]=[\"hello\",\"world\"]\n",
    "print(l)\n",
    "\n",
    "l=[10,20,\"hello\",30]\n",
    "l[1]=\"world\"\n",
    "print(l)\n",
    "\n",
    "l=[10,20,\"hello\",30]\n",
    "l[2]=500\n",
    "print(l)\n",
    "\n",
    "l=[10,20,\"hello\",30]\n",
    "l[1]=200\n",
    "print(l)"
   ]
  },
  {
   "cell_type": "code",
   "execution_count": 107,
   "metadata": {},
   "outputs": [
    {
     "name": "stdout",
     "output_type": "stream",
     "text": [
      "['world', 20, 'hello', 30]\n"
     ]
    }
   ],
   "source": [
    "#WAS to modify the new value into the starting position of the given list\n",
    "\n",
    "l=[10,20,\"hello\",30]\n",
    "l[0]=\"world\"\n",
    "print(l)\n",
    "\n",
    "\n"
   ]
  },
  {
   "cell_type": "code",
   "execution_count": 108,
   "metadata": {},
   "outputs": [
    {
     "name": "stdout",
     "output_type": "stream",
     "text": [
      "[10, 20, 'world', 30]\n",
      "[10, 20, 'world', 30, 40]\n"
     ]
    }
   ],
   "source": [
    "#WAS to modify the new value into the middle position of the given list\n",
    "\n",
    "l=[10,20,\"hello\",30]\n",
    "l[len(l)//2]=\"world\"\n",
    "print(l)\n",
    "\n",
    "l=[10,20,\"hello\",30,40]\n",
    "l[len(l)//2]=\"world\"\n",
    "print(l)"
   ]
  },
  {
   "cell_type": "code",
   "execution_count": 109,
   "metadata": {},
   "outputs": [
    {
     "name": "stdout",
     "output_type": "stream",
     "text": [
      "[10, 20, 'hello', 'world']\n",
      "[10, 20, 'hello', 30, 'world']\n"
     ]
    }
   ],
   "source": [
    "#WAS to modify the new value into the ending of the given list\n",
    "l=[10,20,\"hello\",30]\n",
    "l[-1]=\"world\"\n",
    "print(l)\n",
    "\n",
    "l=[10,20,\"hello\",30,40]\n",
    "l[-1]=\"world\"\n",
    "print(l)"
   ]
  },
  {
   "cell_type": "code",
   "execution_count": 110,
   "metadata": {},
   "outputs": [
    {
     "name": "stdout",
     "output_type": "stream",
     "text": [
      "[1, 2, 3, 4, 5, 6, 7]\n",
      "['a', 'b', 'c', 'd', 5, 6, 7]\n"
     ]
    }
   ],
   "source": [
    "#WAS to modify the first 4 positions of the given list\n",
    "l=[1,2,3,4,5,6,7]\n",
    "print(l)\n",
    "l[0:4]=['a','b','c','d']\n",
    "print(l)"
   ]
  },
  {
   "cell_type": "code",
   "execution_count": 111,
   "metadata": {},
   "outputs": [
    {
     "name": "stdout",
     "output_type": "stream",
     "text": [
      "[10, 20, 30, 50]\n"
     ]
    }
   ],
   "source": [
    "#WAS to delete the  value in the specific position of the given list\n",
    "l=[10,20,30,40,50]\n",
    "del l[3]\n",
    "print(l)"
   ]
  },
  {
   "cell_type": "code",
   "execution_count": 112,
   "metadata": {},
   "outputs": [
    {
     "name": "stdout",
     "output_type": "stream",
     "text": [
      "[1, 2, 3, 4, 5]\n",
      "[1, 2, 3, 4]\n",
      "[1, 2, 3, 4, 5]\n",
      "[1, 2, 3, 4]\n"
     ]
    }
   ],
   "source": [
    "#WAS to delete the new value into the ending of the list\n",
    "l=[1,2,3,4,5]\n",
    "print(l)\n",
    "del l[-1]\n",
    "print(l)\n",
    "\n",
    "l=[1,2,3,4,5]\n",
    "print(l)\n",
    "del l[len(l)-1]\n",
    "print(l)"
   ]
  },
  {
   "cell_type": "code",
   "execution_count": 113,
   "metadata": {},
   "outputs": [
    {
     "name": "stdout",
     "output_type": "stream",
     "text": [
      "[1, 2, 3, 4, 5, 6, 7]\n",
      "[1, 2, 3, 5, 6, 7]\n",
      "[1, 2, 3, 4, 5, 6]\n",
      "[1, 2, 3, 5, 6]\n"
     ]
    }
   ],
   "source": [
    "#WAS to delete the new value into the middle of the list\n",
    "\n",
    "l=[1,2,3,4,5,6,7]\n",
    "print(l)\n",
    "del l[len(l)//2]\n",
    "print(l)\n",
    "\n",
    "l=[1,2,3,4,5,6]\n",
    "print(l)\n",
    "del l[len(l)//2]\n",
    "print(l)"
   ]
  },
  {
   "cell_type": "code",
   "execution_count": 114,
   "metadata": {},
   "outputs": [
    {
     "name": "stdout",
     "output_type": "stream",
     "text": [
      "[1, 2, 3, 4, 5] 1795318424320\n",
      "[2, 3, 4, 5] 1795318424320\n",
      "[1, 2, 3, 4, 5]\n",
      "[2, 3, 4, 5]\n",
      "[1, 2, 3, 4, 5]\n",
      "[2, 3, 4, 5]\n"
     ]
    }
   ],
   "source": [
    "#WAS to delete the new value into the middle of the list\n",
    "l=[1,2,3,4,5]\n",
    "print(l,id(l))\n",
    "del l[0]\n",
    "print(l,id(l))\n",
    "\n",
    "l=[1,2,3,4,5]\n",
    "print(l)\n",
    "del l[-len(l)]\n",
    "print(l)\n",
    "\n",
    "l=[1,2,3,4,5]\n",
    "print(l)\n",
    "del l[-5]\n",
    "print(l)"
   ]
  },
  {
   "cell_type": "code",
   "execution_count": 115,
   "metadata": {},
   "outputs": [
    {
     "name": "stdout",
     "output_type": "stream",
     "text": [
      "[1, 2, 3, 4, 5, 6]\n",
      "[5, 6]\n",
      "------------------------------\n",
      "[1, 2, 3, 4, 5, 6, 'a', 'b', 'c', 'd']\n",
      "[1, 6, 'a', 'b', 'c', 'd']\n",
      "----------------------------------------\n",
      "[1, 2, 3, 4, 5, 6, 'a', 'b', 'c', 'd']\n",
      "[1, 2, 3, 4, 5, 6]\n"
     ]
    }
   ],
   "source": [
    "#WAS to delete the sequence of values from the list\n",
    "l=[1,2,3,4,5,6]\n",
    "print(l)\n",
    "del l[0:4]\n",
    "print(l)\n",
    "\n",
    "print(\"--\"*15)\n",
    "\n",
    "l=[1,2,3,4,5,6,'a','b','c','d']\n",
    "print(l)\n",
    "del l[4:0:-1]\n",
    "print(l)\n",
    "\n",
    "print(\"--\"*20)\n",
    "\n",
    "l=[1,2,3,4,5,6,'a','b','c','d']\n",
    "print(l)\n",
    "del l[-1:-5:-1]\n",
    "print(l)"
   ]
  },
  {
   "cell_type": "code",
   "execution_count": 116,
   "metadata": {},
   "outputs": [
    {
     "name": "stdout",
     "output_type": "stream",
     "text": [
      "('Hello', 'Good', 'Morning')\n",
      "('Hai', 'Hello', 'Good', 'Morning')\n"
     ]
    }
   ],
   "source": [
    "#WAS to concat the new value into starting of the tuple\n",
    "t=(\"Hello\",\"Good\",\"Morning\")\n",
    "print(t)\n",
    "t=(\"Hai\",)+t\n",
    "print(t)"
   ]
  },
  {
   "cell_type": "code",
   "execution_count": 117,
   "metadata": {},
   "outputs": [
    {
     "name": "stdout",
     "output_type": "stream",
     "text": [
      "('Hello', 'Hai', 'Good', 'Morning')\n",
      "('Hello', 'Hai', [10.2], 'Good', 'Morning')\n"
     ]
    }
   ],
   "source": [
    "#WAS to concat the new value into middle of the tuple\n",
    "t=(\"Hello\",\"Hai\",\"Good\",\"Morning\")\n",
    "print(t)\n",
    "t=t[:(len(t)//2)]+([10.20],)+t[len(t)//2:]\n",
    "print(t)"
   ]
  },
  {
   "cell_type": "code",
   "execution_count": 118,
   "metadata": {},
   "outputs": [
    {
     "name": "stdout",
     "output_type": "stream",
     "text": [
      "('Hello', 'Good', 'Morning')\n",
      "('Hello', 'Good', 'Morning', 'hai')\n"
     ]
    }
   ],
   "source": [
    "#WAS to concat the new value into ending of the tuple\n",
    "t=(\"Hello\",\"Good\",\"Morning\")\n",
    "print(t)\n",
    "t=t+(\"hai\",)\n",
    "print(t)"
   ]
  },
  {
   "cell_type": "code",
   "execution_count": 119,
   "metadata": {},
   "outputs": [
    {
     "name": "stdout",
     "output_type": "stream",
     "text": [
      "('Hello', 'Hai', 'Good', 'Morning')\n",
      "('Hello', 'Hai', 'Good', [10, 20], 'Morning')\n"
     ]
    }
   ],
   "source": [
    "#WAS to concat the new value into the specific position of the tuple\n",
    "t=(\"Hello\",\"Hai\",\"Good\",\"Morning\")\n",
    "print(t)\n",
    "t=t[:3]+([10,20],)+t[3:]\n",
    "print(t)\n"
   ]
  },
  {
   "cell_type": "code",
   "execution_count": 120,
   "metadata": {},
   "outputs": [
    {
     "name": "stdout",
     "output_type": "stream",
     "text": [
      "('Hello', 'Hai', 'Good', 'Morning')\n",
      "('Hello', 'Hai', 'Good', 'Morning', [10, 20])\n",
      "('Hello', 'Hai', 'Good', 'Morning')\n",
      "('Hello', 'Hai', 'Good', 'Morning', 'bye')\n",
      "('Hello', 'Hai', 'Good', 'Morning')\n",
      "('Hello', 'Hai', 'Good', 'Morning', 'bye bye')\n"
     ]
    }
   ],
   "source": [
    "#WAS to concat the new value into the last of the tuple\n",
    "t=(\"Hello\",\"Hai\",\"Good\",\"Morning\")\n",
    "print(t)\n",
    "t=t[0:]+([10,20],)\n",
    "print(t)\n",
    "\n",
    "t=(\"Hello\",\"Hai\",\"Good\",\"Morning\")\n",
    "print(t)\n",
    "t=t+('bye',)\n",
    "print(t)\n",
    "\n",
    "t=(\"Hello\",\"Hai\",\"Good\",\"Morning\")\n",
    "print(t)\n",
    "t+=(\"bye bye\",)\n",
    "print(t)"
   ]
  },
  {
   "cell_type": "code",
   "execution_count": 121,
   "metadata": {},
   "outputs": [
    {
     "name": "stdout",
     "output_type": "stream",
     "text": [
      "('Hello', 'Hai', 'Good', 'Morning')\n",
      "('bye', 'Hai', 'Good', 'Morning')\n",
      "('Hello', 'Hai', 'Good', 'Morning')\n",
      "('Hello', 'Hai', 'Good', 'bye bye')\n",
      "('Hello', 'Hai', 'Good', 'Morning')\n",
      "('Hello', 'Hai', 'afternoon', 'Morning')\n",
      "('Hello', 'Hai', 'Good', 'Morning', 'bye')\n",
      "('Hello', 'Hai', [10, 20], 'bye')\n"
     ]
    }
   ],
   "source": [
    "#WAS to modify the values into the tuple\n",
    "#starting\n",
    "t=(\"Hello\",\"Hai\",\"Good\",\"Morning\")\n",
    "print(t)\n",
    "t=(\"bye\",)+t[1:]\n",
    "print(t)\n",
    "\n",
    "#ending\n",
    "t=(\"Hello\",\"Hai\",\"Good\",\"Morning\")\n",
    "print(t)\n",
    "t=t[:-1]+(\"bye bye\",)\n",
    "print(t)\n",
    "\n",
    "#specific position\n",
    "t=(\"Hello\",\"Hai\",\"Good\",\"Morning\")\n",
    "print(t)\n",
    "t=t[0:2]+(\"afternoon\",)+t[2+1:]\n",
    "print(t)\n",
    "\n",
    "#sequence of values\n",
    "t=(\"Hello\",\"Hai\",\"Good\",\"Morning\",\"bye\")\n",
    "print(t)\n",
    "t=t[0:2]+([10,20],)+t[4:]\n",
    "print(t)\n"
   ]
  },
  {
   "cell_type": "code",
   "execution_count": 122,
   "metadata": {},
   "outputs": [
    {
     "name": "stdout",
     "output_type": "stream",
     "text": [
      "('Hello', 'Hai', 'Good', 'Morning')\n",
      "('Hai', 'Good', 'Morning')\n",
      "('Hello', 'Hai', 'Good', 'Morning')\n",
      "('Hello', 'Hai', 'Good')\n",
      "('Hello', 'Hai', 'Good', 'Morning')\n",
      "('Hello', 'Hai', 'Morning')\n",
      "('Hello', 'Hai', 'Good', 'Morning', 'bye')\n",
      "('Hello', 'Hai', 'bye')\n"
     ]
    }
   ],
   "source": [
    "#WAS to delete the values into the tuple\n",
    "#starting\n",
    "t=(\"Hello\",\"Hai\",\"Good\",\"Morning\")\n",
    "print(t)\n",
    "t=t[1:]\n",
    "print(t)\n",
    "\n",
    "#ending\n",
    "t=(\"Hello\",\"Hai\",\"Good\",\"Morning\")\n",
    "print(t)\n",
    "t=t[0:-1]\n",
    "print(t)\n",
    "\n",
    "#specific position\n",
    "t=(\"Hello\",\"Hai\",\"Good\",\"Morning\")\n",
    "print(t)\n",
    "t=t[0:2]+t[2+1:]\n",
    "print(t)\n",
    "\n",
    "#sequence of values\n",
    "t=(\"Hello\",\"Hai\",\"Good\",\"Morning\",\"bye\")\n",
    "print(t)\n",
    "t=t[0:2]+t[4:]\n",
    "print(t)\n"
   ]
  },
  {
   "cell_type": "code",
   "execution_count": 123,
   "metadata": {},
   "outputs": [
    {
     "name": "stdout",
     "output_type": "stream",
     "text": [
      "{40, 10, 50, 20, 60, 30}\n",
      "{40, 10, 50, 20, 60, 30}\n",
      "{40, 10, 30}\n",
      "{40, 10, 30}\n"
     ]
    }
   ],
   "source": [
    "#WAP to perform the set operations\n",
    "#union/concat\n",
    "s={10,20,30,40}\n",
    "t={20,30,50,60}\n",
    "temp=s|t\n",
    "print(temp)\n",
    "\n",
    "#union/concat/union updation\n",
    "s={10,20,30,40}\n",
    "t={20,30,50,60}\n",
    "s|=t\n",
    "print(s)\n",
    "\n",
    "#different/delete\n",
    "s={10,20,30,40}\n",
    "t={20}\n",
    "temp=s-t\n",
    "print(temp)\n",
    "\n",
    "#union/concat\n",
    "s={10,20,30,40}\n",
    "t={20}\n",
    "s-=t\n",
    "print(s)"
   ]
  },
  {
   "cell_type": "code",
   "execution_count": 124,
   "metadata": {},
   "outputs": [
    {
     "name": "stdout",
     "output_type": "stream",
     "text": [
      "{'a': 10, 'hello': 'bye'}\n",
      "{'a': 10, 'hello': 'bye', 'c': 20}\n",
      "{'a': 10, 'hello': 'bye', 'b': 20, 'c': 30, 'good': 'morning'}\n"
     ]
    }
   ],
   "source": [
    "#WAS to concat the new key and value into the dict\n",
    "\n",
    "d={'a':10,'hello':\"bye\"}\n",
    "print(d)\n",
    "d['c']=20\n",
    "print(d)\n",
    "\n",
    "#union/concat\n",
    "d={'a':10,'hello':\"bye\"}\n",
    "s={'b':20,'c':30,'good':\"morning\"}\n",
    "d|=s\n",
    "print(d)"
   ]
  },
  {
   "cell_type": "code",
   "execution_count": 125,
   "metadata": {},
   "outputs": [
    {
     "name": "stdout",
     "output_type": "stream",
     "text": [
      "{'a': 10, 'hello': 'bye', 'b': 20}\n",
      "{'hello': 'bye', 'b': 20}\n",
      "{'a': 10, 'hello': 'bye', 'b': 20, 'd': 40}\n",
      "{'hello': 'bye'}\n"
     ]
    }
   ],
   "source": [
    "#WAS to delete the specific key and value into the dict\n",
    "d={'a':10,'hello':\"bye\",'b':20}\n",
    "print(d)\n",
    "del d['a']\n",
    "print(d)\n",
    "\n",
    "d={'a':10,'hello':\"bye\",'b':20,'d':40}\n",
    "print(d)\n",
    "del [d['a'],d['d'],d['b']]\n",
    "print(d)\n"
   ]
  },
  {
   "cell_type": "code",
   "execution_count": 126,
   "metadata": {},
   "outputs": [
    {
     "name": "stdout",
     "output_type": "stream",
     "text": [
      "{'a': 10, 'hello': 'bye', 'b': 20, 'd': 40}\n",
      "{'a': 1000, 'hello': 'bye', 'b': 20, 'd': 40}\n",
      "{'a': 10, 'hello': 'bye', 'b': 20, 'd': 40}\n",
      "{'a': 10, 'hello': 'world', 'b': 20, 'd': 40}\n"
     ]
    }
   ],
   "source": [
    "#WAS to modify the specific value in the dict\n",
    "d={'a':10,'hello':\"bye\",'b':20,'d':40}\n",
    "print(d)\n",
    "d['a']=1000\n",
    "print(d)\n",
    "\n",
    "d={'a':10,'hello':\"bye\",'b':20,'d':40}\n",
    "t={'hello':\"world\"}\n",
    "print(d)\n",
    "d|=t\n",
    "print(d)"
   ]
  },
  {
   "cell_type": "code",
   "execution_count": 127,
   "metadata": {},
   "outputs": [
    {
     "name": "stdout",
     "output_type": "stream",
     "text": [
      "[10, 20, 'string', 30, 40]\n"
     ]
    }
   ],
   "source": [
    "l=[10,20,30,40]\n",
    "s=[\"string\"]\n",
    "l=l[:len(l)//2]+s+l[len(l)//2:]\n",
    "print(l)"
   ]
  },
  {
   "cell_type": "code",
   "execution_count": 128,
   "metadata": {},
   "outputs": [
    {
     "name": "stdout",
     "output_type": "stream",
     "text": [
      "dict_keys(['a', 'b', 'c', 'd'])\n",
      "dict_values([10, 20, 30, 40])\n",
      "dict_items([('a', 10), ('b', 20), ('c', 30), ('d', 40)])\n"
     ]
    }
   ],
   "source": [
    "#print keys and values seperately in the dict\n",
    "d={'a':10,'b':20,'c':30,'d':40}\n",
    "print(d.keys())\n",
    "print(d.values())\n",
    "print(d.items())\n"
   ]
  },
  {
   "cell_type": "code",
   "execution_count": 129,
   "metadata": {},
   "outputs": [
    {
     "name": "stdout",
     "output_type": "stream",
     "text": [
      "aporangeple\n"
     ]
    }
   ],
   "source": [
    "l=\"apple\"\n",
    "d=l[:len(l)//2]+\"orange\"+l[len(l)//2:]\n",
    "print(d)"
   ]
  },
  {
   "cell_type": "code",
   "execution_count": 130,
   "metadata": {},
   "outputs": [
    {
     "name": "stdout",
     "output_type": "stream",
     "text": [
      "[10, 20, 100, 200, 300]\n",
      "[10, 20, 100, 40]\n"
     ]
    }
   ],
   "source": [
    "s=[10,20,30,40,50]\n",
    "s[2:]=100,200,300\n",
    "print(s)\n",
    "\n",
    "s=[10,20,30,40]\n",
    "s[2]=100\n",
    "print(s)\n",
    "\n"
   ]
  },
  {
   "cell_type": "code",
   "execution_count": 131,
   "metadata": {},
   "outputs": [
    {
     "name": "stdout",
     "output_type": "stream",
     "text": [
      "[10, 20, 30, 40, 'a', 'b', 'c', 'd']\n",
      "(10, 20, 30, 40, 'a', 'b', 'c', 'd')\n",
      "[10, 20, 30, 40, 'a', 'b', 'c', 'd']\n",
      "('a', 'b', 'c', 'd', 10, 20, 30, 40)\n"
     ]
    }
   ],
   "source": [
    "#WAS to concat the list and tuple value by using type casting.\n",
    "l=[10,20,30,40]\n",
    "t=('a','b','c','d')\n",
    "res=l+list(t)\n",
    "print(res)\n",
    "\n",
    "l=[10,20,30,40]\n",
    "t=('a','b','c','d')\n",
    "res=tuple(l)+t\n",
    "print(res)\n",
    "\n",
    "l=[10,20,30,40]\n",
    "t=('a','b','c','d')\n",
    "l+=list(t)\n",
    "print(l)\n",
    "\n",
    "l=[10,20,30,40]\n",
    "t=('a','b','c','d')\n",
    "t+=tuple(l)\n",
    "print(t)"
   ]
  },
  {
   "cell_type": "code",
   "execution_count": 132,
   "metadata": {},
   "outputs": [
    {
     "name": "stdout",
     "output_type": "stream",
     "text": [
      "['a', 'b', 'c', 'd', 10, 20, 30, 40]\n"
     ]
    },
    {
     "ename": "TypeError",
     "evalue": "can only concatenate tuple (not \"list\") to tuple",
     "output_type": "error",
     "traceback": [
      "\u001b[1;31m---------------------------------------------------------------------------\u001b[0m",
      "\u001b[1;31mTypeError\u001b[0m                                 Traceback (most recent call last)",
      "Cell \u001b[1;32mIn[132], line 9\u001b[0m\n\u001b[0;32m      7\u001b[0m l\u001b[39m=\u001b[39m[\u001b[39m'\u001b[39m\u001b[39ma\u001b[39m\u001b[39m'\u001b[39m,\u001b[39m'\u001b[39m\u001b[39mb\u001b[39m\u001b[39m'\u001b[39m,\u001b[39m'\u001b[39m\u001b[39mc\u001b[39m\u001b[39m'\u001b[39m,\u001b[39m'\u001b[39m\u001b[39md\u001b[39m\u001b[39m'\u001b[39m]\n\u001b[0;32m      8\u001b[0m t\u001b[39m=\u001b[39m(\u001b[39m10\u001b[39m,\u001b[39m20\u001b[39m,\u001b[39m30\u001b[39m,\u001b[39m40\u001b[39m)\n\u001b[1;32m----> 9\u001b[0m t\u001b[39m+\u001b[39m\u001b[39m=\u001b[39ml\n\u001b[0;32m     10\u001b[0m \u001b[39mprint\u001b[39m(t)\n",
      "\u001b[1;31mTypeError\u001b[0m: can only concatenate tuple (not \"list\") to tuple"
     ]
    }
   ],
   "source": [
    "#WAS to concat the list and tuple value without using typecasting.\n",
    "l=['a','b','c','d']\n",
    "t=(10,20,30,40)\n",
    "l+=t\n",
    "print(l)\n",
    "\n",
    "l=['a','b','c','d']\n",
    "t=(10,20,30,40)\n",
    "t+=l\n",
    "print(t)"
   ]
  },
  {
   "cell_type": "code",
   "execution_count": null,
   "metadata": {},
   "outputs": [
    {
     "name": "stdout",
     "output_type": "stream",
     "text": [
      "True\n",
      "False\n"
     ]
    }
   ],
   "source": [
    "#WAC to the given number is divisible by 3.\n",
    "n=15\n",
    "res=n%3==0\n",
    "print(res)\n",
    "\n",
    "n=16\n",
    "res=n%3==0\n",
    "print(res)"
   ]
  },
  {
   "cell_type": "code",
   "execution_count": null,
   "metadata": {},
   "outputs": [
    {
     "name": "stdout",
     "output_type": "stream",
     "text": [
      "False\n"
     ]
    }
   ],
   "source": [
    "#WAS to the given number is divisible by 2 and 6.\n",
    "n=15\n",
    "res=n%3==0 and n%6==0\n",
    "print(res)"
   ]
  },
  {
   "cell_type": "code",
   "execution_count": null,
   "metadata": {},
   "outputs": [
    {
     "name": "stdout",
     "output_type": "stream",
     "text": [
      "True\n",
      "True\n"
     ]
    }
   ],
   "source": [
    "#WAS to the given number the last digit is divisible by 3 from given integer.(don't se type casing)\n",
    "n=1526\n",
    "res=n%10\n",
    "m=res%3==0\n",
    "print(m)\n",
    "\n",
    "n=1526\n",
    "res=((n%10))%3==0\n",
    "print(res)\n"
   ]
  },
  {
   "cell_type": "code",
   "execution_count": null,
   "metadata": {},
   "outputs": [
    {
     "name": "stdout",
     "output_type": "stream",
     "text": [
      "6\n",
      "26\n",
      "526\n",
      "1526\n"
     ]
    }
   ],
   "source": [
    "#WAS to extract the last digit from given integer number.(without typecasting)\n",
    "n=1526\n",
    "res=n%10\n",
    "print(res)\n",
    "\n",
    "n=1526\n",
    "res=n%100\n",
    "print(res)\n",
    "\n",
    "n=1526\n",
    "res=n%1000\n",
    "print(res)\n",
    "\n",
    "n=1526\n",
    "res=n%10000\n",
    "print(res)"
   ]
  },
  {
   "cell_type": "code",
   "execution_count": null,
   "metadata": {},
   "outputs": [
    {
     "name": "stdout",
     "output_type": "stream",
     "text": [
      "152\n",
      "15\n",
      "1\n",
      "0\n"
     ]
    }
   ],
   "source": [
    "#WAS to eliminate the last digit from  given integer number.\n",
    "n=1526\n",
    "res=n//10\n",
    "print(res)\n",
    "\n",
    "n=1526\n",
    "res=n//100\n",
    "print(res)\n",
    "\n",
    "n=1526\n",
    "res=n//1000\n",
    "print(res)\n",
    "\n",
    "n=1526\n",
    "res=n//10000\n",
    "print(res)"
   ]
  },
  {
   "cell_type": "code",
   "execution_count": null,
   "metadata": {},
   "outputs": [
    {
     "name": "stdout",
     "output_type": "stream",
     "text": [
      "7\n",
      "8\n"
     ]
    }
   ],
   "source": [
    "#WAS to extract the last second digit from given integer number.(without typecasting)\n",
    "n=1879\n",
    "res=(n%100)//10\n",
    "print(res)\n",
    "\n",
    "n=1879\n",
    "res=(n%1000)//100\n",
    "print(res)"
   ]
  },
  {
   "cell_type": "code",
   "execution_count": null,
   "metadata": {},
   "outputs": [
    {
     "name": "stdout",
     "output_type": "stream",
     "text": [
      "9 <class 'str'>\n",
      "9 <class 'int'>\n",
      "True\n"
     ]
    }
   ],
   "source": [
    "#WAS to check the last digit is divisible by 3 from given integer.(with type casing)\n",
    "n=1569\n",
    "res=str(n)[-1]\n",
    "print(res,type(res))\n",
    "\n",
    "res1=int(str(n)[-1])\n",
    "print(res1,type(res1))\n",
    "\n",
    "res2=(int(str(n)[-1])%3==0)\n",
    "print(res2)"
   ]
  },
  {
   "cell_type": "code",
   "execution_count": null,
   "metadata": {},
   "outputs": [
    {
     "name": "stdout",
     "output_type": "stream",
     "text": [
      "False\n"
     ]
    }
   ],
   "source": [
    "#WAC to the given number is greater than 150.\n",
    "n=100\n",
    "res=n>150\n",
    "print(res)"
   ]
  },
  {
   "cell_type": "code",
   "execution_count": null,
   "metadata": {},
   "outputs": [
    {
     "name": "stdout",
     "output_type": "stream",
     "text": [
      "True\n"
     ]
    }
   ],
   "source": [
    "#WAC to the given number is greater than or equal to 150.\n",
    "n=150\n",
    "res=n>=150\n",
    "print(res)"
   ]
  },
  {
   "cell_type": "code",
   "execution_count": null,
   "metadata": {},
   "outputs": [
    {
     "name": "stdout",
     "output_type": "stream",
     "text": [
      "False\n"
     ]
    }
   ],
   "source": [
    "#WAC to the given number is less than 150.\n",
    "n=170\n",
    "res=n<150\n",
    "print(res)"
   ]
  },
  {
   "cell_type": "code",
   "execution_count": null,
   "metadata": {},
   "outputs": [
    {
     "name": "stdout",
     "output_type": "stream",
     "text": [
      "True\n",
      "True\n"
     ]
    }
   ],
   "source": [
    "#WAC to the given number is less than or equal to 150.\n",
    "n=150\n",
    "res=n<=150\n",
    "print(res)\n",
    "\n",
    "n=140\n",
    "res=n<=150\n",
    "print(res)"
   ]
  },
  {
   "cell_type": "code",
   "execution_count": null,
   "metadata": {},
   "outputs": [
    {
     "name": "stdout",
     "output_type": "stream",
     "text": [
      "True\n",
      "True\n"
     ]
    }
   ],
   "source": [
    "#WAC to check the given number is greatet than 15 & less than 24.\n",
    "n=20\n",
    "res=(n)>15 and n<24\n",
    "print(res)\n",
    "\n",
    "n=20\n",
    "res=(15<n and n<24)\n",
    "print(res)"
   ]
  },
  {
   "cell_type": "code",
   "execution_count": null,
   "metadata": {},
   "outputs": [
    {
     "name": "stdout",
     "output_type": "stream",
     "text": [
      "True\n"
     ]
    }
   ],
   "source": [
    "#WAS the given number is even\n",
    "n=10\n",
    "res=n%2==0\n",
    "print(res)"
   ]
  },
  {
   "cell_type": "code",
   "execution_count": null,
   "metadata": {},
   "outputs": [
    {
     "name": "stdout",
     "output_type": "stream",
     "text": [
      "False\n",
      "True\n"
     ]
    }
   ],
   "source": [
    "#WAS the given number is 0dd\n",
    "n=10\n",
    "res=n%2!=0\n",
    "print(res)\n",
    "\n",
    "n=9\n",
    "res=n%2!=0\n",
    "print(res)"
   ]
  },
  {
   "cell_type": "code",
   "execution_count": null,
   "metadata": {},
   "outputs": [
    {
     "name": "stdout",
     "output_type": "stream",
     "text": [
      "appleappleappleappleappleapple\n"
     ]
    }
   ],
   "source": [
    "#WAC to perform th replication of a given string with 6 times.\n",
    "n=\"apple\"\n",
    "print(n*6)\n"
   ]
  },
  {
   "cell_type": "code",
   "execution_count": null,
   "metadata": {},
   "outputs": [
    {
     "name": "stdout",
     "output_type": "stream",
     "text": [
      "False\n",
      "True\n"
     ]
    }
   ],
   "source": [
    "#WAC to check the given number is divisible by 3 and also the number greatre than 22\n",
    "n=22\n",
    "res=(n%3==0) and n>22\n",
    "print(res)\n",
    "\n",
    "n=24\n",
    "res=n%3==0 and n>22\n",
    "print(res)"
   ]
  },
  {
   "cell_type": "code",
   "execution_count": null,
   "metadata": {},
   "outputs": [
    {
     "name": "stdout",
     "output_type": "stream",
     "text": [
      "True\n",
      "False\n",
      "True\n"
     ]
    }
   ],
   "source": [
    "#WAC to perform the length of the collection is even or not.\n",
    "n=[10,20,30,40]\n",
    "res=len(n)%2==0\n",
    "print(res)\n",
    "\n",
    "n=[10,20,30,40,50]\n",
    "res=len(n)%2==0\n",
    "print(res)\n",
    "\n",
    "n=[10,20,30,40,50]\n",
    "res=len(n)%2!=0\n",
    "print(res)"
   ]
  },
  {
   "cell_type": "code",
   "execution_count": null,
   "metadata": {},
   "outputs": [
    {
     "name": "stdout",
     "output_type": "stream",
     "text": [
      "True\n",
      "False\n"
     ]
    }
   ],
   "source": [
    "#WAC to perform the length of the collection is less than 55 and greater than 16.\n",
    "n=\"ABCDEFGHIJKLMNOPQRSTUVWXYZ\"\n",
    "res=len(n)<55 and len(n)>16\n",
    "print(res)\n",
    "\n",
    "n=\"ABCDEFGHIJKLM\"\n",
    "res=len(n)<55 and len(n)>16\n",
    "print(res)\n"
   ]
  },
  {
   "cell_type": "code",
   "execution_count": null,
   "metadata": {},
   "outputs": [
    {
     "name": "stdout",
     "output_type": "stream",
     "text": [
      "False\n",
      "True\n"
     ]
    }
   ],
   "source": [
    "#WAC to perform the length of the collection is divisible by 5 and odd.\n",
    "n=\"HelloWorld\"\n",
    "res=len(n)%5==0 and len(n)%2!=0\n",
    "print(res)\n",
    "\n",
    "n=\"HelloWorldHello\"\n",
    "res=len(n)%5==0 and len(n)%2!=0\n",
    "print(res)\n"
   ]
  },
  {
   "cell_type": "code",
   "execution_count": null,
   "metadata": {},
   "outputs": [
    {
     "name": "stdout",
     "output_type": "stream",
     "text": [
      "W\n",
      "30\n",
      "300\n"
     ]
    }
   ],
   "source": [
    "#WAC to extract the middle position of a given collection(str,list,tuple)\n",
    "n=\"HelloWorld\"\n",
    "res=n[len(n)//2]\n",
    "print(res)\n",
    "\n",
    "n=[10,20,30,40,50]\n",
    "res=n[len(n)//2]\n",
    "print(res)\n",
    "\n",
    "n=(10,20,300,40,50)\n",
    "res=n[len(n)//2]\n",
    "print(res)\n"
   ]
  },
  {
   "cell_type": "code",
   "execution_count": null,
   "metadata": {},
   "outputs": [
    {
     "name": "stdout",
     "output_type": "stream",
     "text": [
      "True\n"
     ]
    }
   ],
   "source": [
    "#59. WAC to the given number is greater than 20 and less than 30 and it should be even\n",
    "n=24\n",
    "res=(n>20 and n<30)and n%2==0\n",
    "print(res)"
   ]
  },
  {
   "cell_type": "code",
   "execution_count": null,
   "metadata": {},
   "outputs": [
    {
     "name": "stdout",
     "output_type": "stream",
     "text": [
      "False\n",
      "True\n"
     ]
    }
   ],
   "source": [
    "#60. WAC to the given number is even and it should be less than 120.\n",
    "\n",
    "n=47\n",
    "res=n<120 and n%2==0\n",
    "print(res)\n",
    "\n",
    "n=46\n",
    "res=n<120 and n%2==0\n",
    "print(res)"
   ]
  },
  {
   "cell_type": "code",
   "execution_count": null,
   "metadata": {},
   "outputs": [
    {
     "name": "stdout",
     "output_type": "stream",
     "text": [
      "True\n"
     ]
    }
   ],
   "source": [
    "#61. WAC to the given number is even and present from 40 to 70\n",
    "n=50\n",
    "res=40<=n<=70 and n%2==0\n",
    "print(res)"
   ]
  },
  {
   "cell_type": "code",
   "execution_count": null,
   "metadata": {},
   "outputs": [
    {
     "name": "stdout",
     "output_type": "stream",
     "text": [
      "False\n",
      "True\n"
     ]
    }
   ],
   "source": [
    "#62. WAC to the given number is odd and it should be greater than 97.\n",
    "a=100\n",
    "print(a%2!=0 and a>97)\n",
    "\n",
    "a=101\n",
    "print(a%2!=0 and a>97)\n"
   ]
  },
  {
   "cell_type": "code",
   "execution_count": null,
   "metadata": {},
   "outputs": [
    {
     "name": "stdout",
     "output_type": "stream",
     "text": [
      "True\n"
     ]
    }
   ],
   "source": [
    "#63. WAC to the given number is less than 122 and greater than 48 and the number should be divisible by 4.\n",
    "a=116\n",
    "print(a>48 and a<122 and a%4==0)"
   ]
  },
  {
   "cell_type": "code",
   "execution_count": null,
   "metadata": {},
   "outputs": [
    {
     "name": "stdout",
     "output_type": "stream",
     "text": [
      "True\n"
     ]
    }
   ],
   "source": [
    "#64. WAC to the given number is divisible by 3 or 5, displaying the value.\n",
    "a=10\n",
    "print(a%3==0 or a%5==0)"
   ]
  },
  {
   "cell_type": "code",
   "execution_count": null,
   "metadata": {},
   "outputs": [
    {
     "name": "stdout",
     "output_type": "stream",
     "text": [
      "True\n"
     ]
    }
   ],
   "source": [
    "#65. WAC to the given number is between 100 to 200 including the limit.\n",
    "a=150\n",
    "print(100<=a<=200)\n"
   ]
  },
  {
   "cell_type": "code",
   "execution_count": null,
   "metadata": {},
   "outputs": [
    {
     "name": "stdout",
     "output_type": "stream",
     "text": [
      "True\n"
     ]
    }
   ],
   "source": [
    "#66. WAC to the given number is in between 100 to 200.\n",
    "a=150\n",
    "print(100<a<200)"
   ]
  },
  {
   "cell_type": "code",
   "execution_count": null,
   "metadata": {},
   "outputs": [
    {
     "name": "stdout",
     "output_type": "stream",
     "text": [
      "g\n",
      "103\n",
      "False\n"
     ]
    }
   ],
   "source": [
    "#67. WAC to the given string's last character ASCII value should be divisible by 5.\n",
    "s=\"string\"\n",
    "a=s[-1]\n",
    "print(a)\n",
    "print(ord(a))\n",
    "print(ord(a) and ord(a)%5==0)"
   ]
  },
  {
   "cell_type": "code",
   "execution_count": null,
   "metadata": {},
   "outputs": [
    {
     "name": "stdout",
     "output_type": "stream",
     "text": [
      "True\n"
     ]
    }
   ],
   "source": [
    "#68. WAC to the given number is present between 60 to 130 and the number should be divisible by 3 and 4 and the last digit should be greater than 9.\n",
    "a=84\n",
    "print(60<a<130 and a%3==0 and a%4==0)\n"
   ]
  },
  {
   "cell_type": "code",
   "execution_count": null,
   "metadata": {},
   "outputs": [
    {
     "name": "stdout",
     "output_type": "stream",
     "text": [
      "True\n"
     ]
    }
   ],
   "source": [
    "#69. WAC to the given number is even or less than 25.\n",
    "a=24\n",
    "print(a%2==0 or a<25)"
   ]
  },
  {
   "cell_type": "code",
   "execution_count": null,
   "metadata": {},
   "outputs": [
    {
     "name": "stdout",
     "output_type": "stream",
     "text": [
      "True\n"
     ]
    }
   ],
   "source": [
    "#70. WAC to the given number is even or greater than 25.\n",
    "a=30\n",
    "print(a%2==0 or a>25)"
   ]
  },
  {
   "cell_type": "code",
   "execution_count": null,
   "metadata": {},
   "outputs": [
    {
     "name": "stdout",
     "output_type": "stream",
     "text": [
      "True\n"
     ]
    }
   ],
   "source": [
    "#71. WAC to the given number is divisible by either 3 or 5.\n",
    "a=25\n",
    "print(a%3==0 or a%5==0)"
   ]
  },
  {
   "cell_type": "code",
   "execution_count": null,
   "metadata": {},
   "outputs": [
    {
     "name": "stdout",
     "output_type": "stream",
     "text": [
      "True\n"
     ]
    }
   ],
   "source": [
    "#72. WAC to the given number is not an even number.\n",
    "a=23\n",
    "print(a%2!=0)"
   ]
  },
  {
   "cell_type": "code",
   "execution_count": null,
   "metadata": {},
   "outputs": [
    {
     "name": "stdout",
     "output_type": "stream",
     "text": [
      "True\n"
     ]
    }
   ],
   "source": [
    "#73. WAC to the given number is not a odd number\n",
    "a=22\n",
    "print(a%2==0)"
   ]
  },
  {
   "cell_type": "code",
   "execution_count": null,
   "metadata": {},
   "outputs": [
    {
     "name": "stdout",
     "output_type": "stream",
     "text": [
      "True\n"
     ]
    }
   ],
   "source": [
    "#74. WAC to the given number is not a divisible by 3\n",
    "a=32\n",
    "print(a%3!=0)"
   ]
  },
  {
   "cell_type": "code",
   "execution_count": null,
   "metadata": {},
   "outputs": [
    {
     "name": "stdout",
     "output_type": "stream",
     "text": [
      "False\n"
     ]
    }
   ],
   "source": [
    "#75. WAC to the given number is not a divisible by 3 and 5\n",
    "a=30\n",
    "print(a%3!=0 and a%5!=0)"
   ]
  },
  {
   "cell_type": "code",
   "execution_count": null,
   "metadata": {},
   "outputs": [
    {
     "name": "stdout",
     "output_type": "stream",
     "text": [
      "False\n"
     ]
    }
   ],
   "source": [
    "#76. WAC to the given number is not a divisible by 3 or 5\n",
    "a=30\n",
    "print(a%3!=0 or a%5!=0)"
   ]
  },
  {
   "cell_type": "code",
   "execution_count": null,
   "metadata": {},
   "outputs": [
    {
     "name": "stdout",
     "output_type": "stream",
     "text": [
      "False\n"
     ]
    }
   ],
   "source": [
    "#77. WAC to the given character ascii value is not divisible by 5.\n",
    "a=\"A\"\n",
    "print(ord(a)%5!=0)"
   ]
  },
  {
   "cell_type": "code",
   "execution_count": null,
   "metadata": {},
   "outputs": [
    {
     "name": "stdout",
     "output_type": "stream",
     "text": [
      "A\n"
     ]
    }
   ],
   "source": [
    "#WAC to find out the ascii character in a given number.\n",
    "n=65\n",
    "print(chr(n))\n",
    "\n",
    "\n",
    "\n"
   ]
  },
  {
   "cell_type": "code",
   "execution_count": null,
   "metadata": {},
   "outputs": [
    {
     "name": "stdout",
     "output_type": "stream",
     "text": [
      "97\n"
     ]
    }
   ],
   "source": [
    "#WAC to find out the ascii value in a given character.\n",
    "n='a'\n",
    "print(ord(n))"
   ]
  },
  {
   "cell_type": "code",
   "execution_count": null,
   "metadata": {},
   "outputs": [
    {
     "name": "stdout",
     "output_type": "stream",
     "text": [
      "True\n",
      "False\n",
      "False\n",
      "False\n",
      "True\n"
     ]
    }
   ],
   "source": [
    "#WAC to the given character is uppercase or not.\n",
    "ch='Y'\n",
    "65<=ord(ch)<=90\n",
    "\n",
    "ch='Ya'\n",
    "print(chr(65)<=ch<=chr(90))\n",
    "\n",
    "ch='a'\n",
    "print('A'<=ch<='Z')\n",
    "\n",
    "ch='Ya'\n",
    "print(len(ch)==1 and chr(ch)<=chr<=chr(90))\n",
    "\n",
    "ch='Ma'\n",
    "print(len(ch)==1 and 'A'<=ch<='Z')\n",
    "\n",
    "ch=\"MA\"\n",
    "print(ch .isupper())\n"
   ]
  },
  {
   "cell_type": "code",
   "execution_count": null,
   "metadata": {},
   "outputs": [
    {
     "name": "stdout",
     "output_type": "stream",
     "text": [
      "a\n",
      "A\n"
     ]
    }
   ],
   "source": [
    "#WAC convert uppercase to lowercase\n",
    "ch=\"A\"\n",
    "print(chr(ord(ch)+32))\n",
    "\n",
    "ch=\"a\"\n",
    "print(chr(ord(ch)-32))\n"
   ]
  },
  {
   "cell_type": "code",
   "execution_count": null,
   "metadata": {},
   "outputs": [
    {
     "name": "stdout",
     "output_type": "stream",
     "text": [
      "True\n",
      "True\n",
      "True\n",
      "True\n",
      "True\n"
     ]
    }
   ],
   "source": [
    "#WAC to the given character is lowercase or not.\n",
    "ch='y'\n",
    "97<=ord(ch)<=122\n",
    "\n",
    "ch='yA'\n",
    "print(chr(97)<=ch<=chr(122))\n",
    "\n",
    "ch='a'\n",
    "print('a'<=ch<='z')\n",
    "\n",
    "ch='a'\n",
    "print(len(ch)==1 and chr(97)<=ch<=chr(122))\n",
    "\n",
    "ch='a'\n",
    "print(len(ch)==1 and 'a'<=ch<='z')\n",
    "\n",
    "ch=\"ma\"\n",
    "print(ch .islower())"
   ]
  },
  {
   "cell_type": "code",
   "execution_count": null,
   "metadata": {},
   "outputs": [
    {
     "name": "stdout",
     "output_type": "stream",
     "text": [
      "True\n"
     ]
    }
   ],
   "source": [
    "#WAC to the given character is the alphabet or not.\n",
    "\n",
    "ch='a'\n",
    "print(not(chr(65)>=ch<=chr(122)))"
   ]
  },
  {
   "cell_type": "code",
   "execution_count": null,
   "metadata": {},
   "outputs": [
    {
     "name": "stdout",
     "output_type": "stream",
     "text": [
      "True\n"
     ]
    }
   ],
   "source": [
    "#WAC to the given character is the ascii number.\n",
    "ch=\"7\"\n",
    "print(chr(48)<=ch<=chr(57))\n",
    "\n",
    "ch=\"\""
   ]
  },
  {
   "cell_type": "code",
   "execution_count": null,
   "metadata": {},
   "outputs": [
    {
     "name": "stdout",
     "output_type": "stream",
     "text": [
      "True\n"
     ]
    }
   ],
   "source": [
    "#WAC to the given character is the special character or not.\n",
    "ch=\"@\"\n",
    "print(not('A'<=ch<='Z' or 'a'<=ch<='z' or '0'<=ch<='9'))"
   ]
  },
  {
   "cell_type": "code",
   "execution_count": null,
   "metadata": {},
   "outputs": [
    {
     "name": "stdout",
     "output_type": "stream",
     "text": [
      "False\n"
     ]
    }
   ],
   "source": [
    "#WAC to the given character should not be uppercase.\n",
    "n='A'\n",
    "print(not(chr(65)>=n<=chr(97)))"
   ]
  },
  {
   "cell_type": "code",
   "execution_count": null,
   "metadata": {},
   "outputs": [
    {
     "name": "stdout",
     "output_type": "stream",
     "text": [
      "False\n"
     ]
    }
   ],
   "source": [
    "#WAC to the given character should not be lowercase.\n",
    "n='a'\n",
    "print(not(chr(97)>=n<=chr(122)))"
   ]
  },
  {
   "cell_type": "code",
   "execution_count": null,
   "metadata": {},
   "outputs": [
    {
     "name": "stdout",
     "output_type": "stream",
     "text": [
      "False\n"
     ]
    }
   ],
   "source": [
    "#WAC to the given character should not be the alphabet.\n",
    "ch='z'\n",
    "print(not((65<=ord(ch)>=90) or (97<=ord(ch)<=122)))"
   ]
  },
  {
   "cell_type": "code",
   "execution_count": null,
   "metadata": {},
   "outputs": [],
   "source": [
    "#WAC to the given character should not be an ascii number.\n",
    "\n"
   ]
  },
  {
   "cell_type": "code",
   "execution_count": null,
   "metadata": {},
   "outputs": [
    {
     "name": "stdout",
     "output_type": "stream",
     "text": [
      "True\n"
     ]
    }
   ],
   "source": [
    "#89. WAC to the given character is the special character.\n",
    "a=\"\"\n",
    "print(not(65<=ord(a)<=90 and 97<=ord(a)<=122 and 48<=ord(a)<=57))"
   ]
  },
  {
   "cell_type": "code",
   "execution_count": null,
   "metadata": {},
   "outputs": [
    {
     "name": "stdout",
     "output_type": "stream",
     "text": [
      "True\n"
     ]
    }
   ],
   "source": [
    "#90. WAC to the given character is a vowel.\n",
    "a=\"a\"\n",
    "b=['a','e','i','o','u','A','E','I','O','U']\n",
    "print(a in b)"
   ]
  },
  {
   "cell_type": "code",
   "execution_count": null,
   "metadata": {},
   "outputs": [
    {
     "name": "stdout",
     "output_type": "stream",
     "text": [
      "True\n"
     ]
    }
   ],
   "source": [
    "#91. WAC to the given character is a consonant.\n",
    "a=\"d\"\n",
    "b=['a','e','i','o','u','A','E','I','O','U']\n",
    "print(a not in b)"
   ]
  },
  {
   "cell_type": "code",
   "execution_count": null,
   "metadata": {},
   "outputs": [
    {
     "name": "stdout",
     "output_type": "stream",
     "text": [
      "a\n"
     ]
    }
   ],
   "source": [
    "#92. WAS to convert uppercase to lowercase in a given character.\n",
    "a=\"A\"\n",
    "print(chr(ord(a)+32))"
   ]
  },
  {
   "cell_type": "code",
   "execution_count": null,
   "metadata": {},
   "outputs": [
    {
     "name": "stdout",
     "output_type": "stream",
     "text": [
      "A\n"
     ]
    }
   ],
   "source": [
    "#93. WAS to convert lowercase to uppercase in a given character.\n",
    "a=\"a\"\n",
    "print(chr(ord(a)-32))"
   ]
  },
  {
   "cell_type": "code",
   "execution_count": null,
   "metadata": {},
   "outputs": [
    {
     "name": "stdout",
     "output_type": "stream",
     "text": [
      "b\n"
     ]
    }
   ],
   "source": [
    "#94. WAS to extract the previous character in the given character.\n",
    "ch=\"c\"\n",
    "print(chr(ord(ch)-1))"
   ]
  },
  {
   "cell_type": "code",
   "execution_count": null,
   "metadata": {},
   "outputs": [
    {
     "name": "stdout",
     "output_type": "stream",
     "text": [
      "B\n"
     ]
    }
   ],
   "source": [
    "#95. WAS to extract the next character in the given character.\n",
    "ch=\"A\"\n",
    "print(chr(ord(ch)+1))"
   ]
  },
  {
   "cell_type": "code",
   "execution_count": null,
   "metadata": {},
   "outputs": [
    {
     "name": "stdout",
     "output_type": "stream",
     "text": [
      "True\n"
     ]
    }
   ],
   "source": [
    "#96. WAC to the given number character is a special symbol or not.\n",
    "ch=40\n",
    "print(not('A'<=chr(ch)<='Z' or 'a'<=chr(ch)<='z' or '0'<=chr(ch)<='9'))"
   ]
  },
  {
   "cell_type": "code",
   "execution_count": null,
   "metadata": {},
   "outputs": [
    {
     "name": "stdout",
     "output_type": "stream",
     "text": [
      "False\n"
     ]
    }
   ],
   "source": [
    "#97. WAC to the given character is converted to ASCII value and the value is even as well as the character should be lowercase.\n",
    "n=\"a\"\n",
    "print(ord(n)%2==0 and 'a'<=n<='z')"
   ]
  },
  {
   "cell_type": "code",
   "execution_count": null,
   "metadata": {},
   "outputs": [
    {
     "name": "stdout",
     "output_type": "stream",
     "text": [
      "True\n"
     ]
    }
   ],
   "source": [
    "#98. WAC to the given character is converted to ASCII value and the value is odd as well as the character should be uppercase.\n",
    "ch=\"A\"\n",
    "print(ord(ch)%2!=0 and 'A'<=ch<='Z')"
   ]
  },
  {
   "cell_type": "code",
   "execution_count": null,
   "metadata": {},
   "outputs": [
    {
     "name": "stdout",
     "output_type": "stream",
     "text": [
      "False\n"
     ]
    }
   ],
   "source": [
    "#99. WAC to which the given number is converted to character is not a special symbol or not.\n",
    "a=45\n",
    "print(chr(a) and ('A'<=chr(a)<='Z' and 'a'<=chr(a)<='z' and '0'<=chr(a)<='9'))"
   ]
  },
  {
   "cell_type": "code",
   "execution_count": null,
   "metadata": {},
   "outputs": [
    {
     "name": "stdout",
     "output_type": "stream",
     "text": [
      "True\n",
      "True\n"
     ]
    }
   ],
   "source": [
    "#100. WAC to the given number of the ascii character is a vowel.\n",
    "n=65\n",
    "res=chr(n) in 'AEIOUaeiou'\n",
    "print(res)\n",
    "\n",
    "res1=chr(n)=='A' or chr(n)=='E' or chr(n)=='I' or chr(n)=='O' or chr(n)=='U' or chr(n)=='a' or chr(n)=='e' or chr(n)=='i' or chr(n)=='o' or chr(n)=='u' \n",
    "print(res1)"
   ]
  },
  {
   "cell_type": "code",
   "execution_count": null,
   "metadata": {},
   "outputs": [
    {
     "name": "stdout",
     "output_type": "stream",
     "text": [
      "True\n"
     ]
    }
   ],
   "source": [
    "#101. WAC to check if the first and second characters are sequence or not in a given string.\n",
    "s=\"ABCD\"\n",
    "print(ord(s[0])==ord(s[1])-1)\n"
   ]
  },
  {
   "cell_type": "code",
   "execution_count": null,
   "metadata": {},
   "outputs": [
    {
     "name": "stdout",
     "output_type": "stream",
     "text": [
      "True\n",
      "True\n"
     ]
    }
   ],
   "source": [
    "#102. WAC to the given character ASCII value should be either greater than 50 or greater than 25 or less than 112.\n",
    "ch=\"b\"\n",
    "print(ord(ch)>50 and ord(ch)>25 and ord(ch)<112)\n",
    "\n",
    "print(25<ord(ch)<112)"
   ]
  },
  {
   "cell_type": "code",
   "execution_count": null,
   "metadata": {},
   "outputs": [
    {
     "name": "stdout",
     "output_type": "stream",
     "text": [
      "13\n",
      "13\n",
      "14\n"
     ]
    }
   ],
   "source": [
    "#103. WAC to the given number is increased by 1.\n",
    "#104. WAC to the given number is increased by 2.\n",
    "\n",
    "n=12\n",
    "print(n+1)\n",
    "\n",
    "n+=1\n",
    "print(n)\n",
    "\n",
    "m=12\n",
    "m+=2 \n",
    "print(m)"
   ]
  },
  {
   "cell_type": "code",
   "execution_count": null,
   "metadata": {},
   "outputs": [
    {
     "name": "stdout",
     "output_type": "stream",
     "text": [
      "4\n",
      "2\n"
     ]
    }
   ],
   "source": [
    "#105. WAC to the given number is decreased by 1.\n",
    "#106. WAC to the given number is decreased by 3.\n",
    "n=5\n",
    "n-=1\n",
    "print(n)\n",
    "\n",
    "m=5\n",
    "m-=3\n",
    "print(m)"
   ]
  },
  {
   "cell_type": "code",
   "execution_count": null,
   "metadata": {},
   "outputs": [
    {
     "name": "stdout",
     "output_type": "stream",
     "text": [
      "True\n",
      "True\n",
      "True\n"
     ]
    }
   ],
   "source": [
    "#107. WAC to the given integer number is present in the collection.\n",
    "n=10\n",
    "m=[10,20,30,40]\n",
    "print(n in m)\n",
    "\n",
    "n=12\n",
    "m=(11,12,13,14)\n",
    "print(n in m)\n",
    "\n",
    "n=12\n",
    "m={11,12,13,14}\n",
    "print(n in m)"
   ]
  },
  {
   "cell_type": "code",
   "execution_count": null,
   "metadata": {},
   "outputs": [
    {
     "name": "stdout",
     "output_type": "stream",
     "text": [
      "30\n",
      "20\n"
     ]
    }
   ],
   "source": [
    "#108. WAC to perform the addition operation on A value and B value and final result should be updated to A.\n",
    "a=10\n",
    "b=20\n",
    "a+=b\n",
    "print(a)\n",
    "print(b)"
   ]
  },
  {
   "cell_type": "code",
   "execution_count": null,
   "metadata": {},
   "outputs": [
    {
     "name": "stdout",
     "output_type": "stream",
     "text": [
      "True\n"
     ]
    }
   ],
   "source": [
    "#109. WAC to the given value is present in the collection.\n",
    "n=[10.05,20,30,40]\n",
    "m=10.05\n",
    "print(m in n)"
   ]
  },
  {
   "cell_type": "code",
   "execution_count": null,
   "metadata": {},
   "outputs": [
    {
     "name": "stdout",
     "output_type": "stream",
     "text": [
      "True\n"
     ]
    }
   ],
   "source": [
    "#110. WAC to the given list is present in the list.\n",
    "\n",
    "a=[10,20,30]\n",
    "m=[10,20,30,[10,20,30]]\n",
    "print(a in m)"
   ]
  },
  {
   "cell_type": "code",
   "execution_count": null,
   "metadata": {},
   "outputs": [
    {
     "name": "stdout",
     "output_type": "stream",
     "text": [
      "True\n"
     ]
    }
   ],
   "source": [
    "#111. WAC to the given dict value is present in tuple.\n",
    "n=(10,20,30)\n",
    "m={10,20,(10,20,30)}\n",
    "print(n in m)"
   ]
  },
  {
   "cell_type": "code",
   "execution_count": null,
   "metadata": {},
   "outputs": [
    {
     "data": {
      "text/plain": [
       "True"
      ]
     },
     "execution_count": 96,
     "metadata": {},
     "output_type": "execute_result"
    }
   ],
   "source": [
    "#112. WAC to the check given value is integer value or not.\n",
    "n=10\n",
    "type(n)==int"
   ]
  },
  {
   "cell_type": "code",
   "execution_count": null,
   "metadata": {},
   "outputs": [
    {
     "data": {
      "text/plain": [
       "True"
      ]
     },
     "execution_count": 97,
     "metadata": {},
     "output_type": "execute_result"
    }
   ],
   "source": [
    "#113. WAC to the check given value is string value or not.\n",
    "s=\"string\"\n",
    "type(s)==str"
   ]
  },
  {
   "cell_type": "code",
   "execution_count": null,
   "metadata": {},
   "outputs": [
    {
     "data": {
      "text/plain": [
       "True"
      ]
     },
     "execution_count": 100,
     "metadata": {},
     "output_type": "execute_result"
    }
   ],
   "source": [
    "#114. WAC to the check given value is single value or not.\n",
    "n=10\n",
    "type(n) in [int,float,bool,complex,bytes]"
   ]
  },
  {
   "cell_type": "code",
   "execution_count": null,
   "metadata": {},
   "outputs": [
    {
     "data": {
      "text/plain": [
       "True"
      ]
     },
     "execution_count": 102,
     "metadata": {},
     "output_type": "execute_result"
    }
   ],
   "source": [
    "#115. WAC to the check given value should not be a single value.\n",
    "n=\"str\"\n",
    "type(n) not in [int,float,bool,complex,bytes]"
   ]
  },
  {
   "cell_type": "code",
   "execution_count": null,
   "metadata": {},
   "outputs": [
    {
     "data": {
      "text/plain": [
       "True"
      ]
     },
     "execution_count": 103,
     "metadata": {},
     "output_type": "execute_result"
    }
   ],
   "source": [
    "#116. WAC to the check given value is multi value or not.\n",
    "n=\"str\"\n",
    "type(n)  in [str,tuple,list,set,dict]"
   ]
  },
  {
   "cell_type": "code",
   "execution_count": null,
   "metadata": {},
   "outputs": [
    {
     "data": {
      "text/plain": [
       "True"
      ]
     },
     "execution_count": 104,
     "metadata": {},
     "output_type": "execute_result"
    }
   ],
   "source": [
    "#117. WAC to the check given value is a mutable value or not.\n",
    "n=[10,20]\n",
    "type(n) in [list,set,dict]"
   ]
  },
  {
   "cell_type": "code",
   "execution_count": null,
   "metadata": {},
   "outputs": [
    {
     "data": {
      "text/plain": [
       "False"
      ]
     },
     "execution_count": 105,
     "metadata": {},
     "output_type": "execute_result"
    }
   ],
   "source": [
    "#118. WAC to the check given value is an immutable value or not.\n",
    "n=[10,20]\n",
    "type(n) not in [list,set,dict]"
   ]
  },
  {
   "cell_type": "code",
   "execution_count": null,
   "metadata": {},
   "outputs": [
    {
     "name": "stdout",
     "output_type": "stream",
     "text": [
      "True\n"
     ]
    }
   ],
   "source": [
    "#119. WAC to the check given value should be an immutable value.\n",
    "a=10\n",
    "b=type(a)\n",
    "print(b not in['list','set','dict'])"
   ]
  },
  {
   "cell_type": "code",
   "execution_count": null,
   "metadata": {},
   "outputs": [
    {
     "name": "stdout",
     "output_type": "stream",
     "text": [
      "True\n"
     ]
    }
   ],
   "source": [
    "#120. WAC to check if a given value is divisible by 6 as well as that value present in the collection or not.\n",
    "n=[30,36,20,40]\n",
    "m=36\n",
    "print(m%6==0 and m in n)"
   ]
  },
  {
   "cell_type": "code",
   "execution_count": null,
   "metadata": {},
   "outputs": [
    {
     "data": {
      "text/plain": [
       "1000"
      ]
     },
     "execution_count": 110,
     "metadata": {},
     "output_type": "execute_result"
    }
   ],
   "source": [
    "#127. To find out the output of a given condition.\n",
    "(10+20*60 and 10**3) or ({10,20} or not ([15-16]))"
   ]
  },
  {
   "cell_type": "code",
   "execution_count": null,
   "metadata": {},
   "outputs": [
    {
     "name": "stdout",
     "output_type": "stream",
     "text": [
      "True\n"
     ]
    }
   ],
   "source": [
    "#128. WAC to check if the first and last characters are the same or not in the given list.\n",
    "l=[10,20,30,10]\n",
    "print(l[0]==l[3])"
   ]
  },
  {
   "cell_type": "code",
   "execution_count": null,
   "metadata": {},
   "outputs": [
    {
     "name": "stdout",
     "output_type": "stream",
     "text": [
      "True\n",
      "True\n"
     ]
    }
   ],
   "source": [
    "#129. WAC to check if a given key is present in a dict.\n",
    "d={'a':10,'b':20,'c':30}\n",
    "n='a'\n",
    "print(n in d)\n",
    "\n",
    "      #or\n",
    "      \n",
    "print(n in d.keys())"
   ]
  },
  {
   "cell_type": "code",
   "execution_count": null,
   "metadata": {},
   "outputs": [
    {
     "name": "stdout",
     "output_type": "stream",
     "text": [
      "False\n",
      "True\n"
     ]
    }
   ],
   "source": [
    "#130. WAC to check if value is present in the dict.\n",
    "d={'a':10,'b':20,'c':30}\n",
    "n=10     \n",
    "print(n in d.values())"
   ]
  },
  {
   "cell_type": "code",
   "execution_count": null,
   "metadata": {},
   "outputs": [
    {
     "name": "stdout",
     "output_type": "stream",
     "text": [
      "True\n",
      "True\n"
     ]
    }
   ],
   "source": [
    "#131. WAC to check if the key is not present in a dict.\n",
    "d={'a':10,'b':20,'c':30}\n",
    "n='g'\n",
    "print(n not in d)\n",
    "\n",
    "      #or\n",
    "      \n",
    "print(n not in d.keys())"
   ]
  },
  {
   "cell_type": "code",
   "execution_count": null,
   "metadata": {},
   "outputs": [
    {
     "name": "stdout",
     "output_type": "stream",
     "text": [
      "True\n",
      "False\n",
      "True\n",
      "False\n"
     ]
    }
   ],
   "source": [
    "#132. WAC to check if two values are pointing to the same address or not\n",
    "n=[10,20,30]\n",
    "m=n\n",
    "print(m is n)\n",
    "\n",
    "n=[10,20,30]\n",
    "m=n.copy()\n",
    "print(m is n)\n",
    "\n",
    "n=[10,20,30]\n",
    "m=n.copy()\n",
    "print(m[0] is n[0])\n",
    "\n",
    "import copy\n",
    "n=[10,20,30]\n",
    "m=copy.deepcopy(n)\n",
    "print(m is n)\n",
    "\n"
   ]
  },
  {
   "cell_type": "code",
   "execution_count": null,
   "metadata": {},
   "outputs": [
    {
     "data": {
      "text/plain": [
       "True"
      ]
     },
     "execution_count": 144,
     "metadata": {},
     "output_type": "execute_result"
    }
   ],
   "source": [
    "#133. WAC to check both the values should be integer and both the values are pointing to the same address.\n",
    "n=10\n",
    "m=10\n",
    "type(n)==int and type(m)==int and n is m"
   ]
  },
  {
   "cell_type": "code",
   "execution_count": null,
   "metadata": {},
   "outputs": [],
   "source": []
  }
 ],
 "metadata": {
  "kernelspec": {
   "display_name": "Python 3",
   "language": "python",
   "name": "python3"
  },
  "language_info": {
   "codemirror_mode": {
    "name": "ipython",
    "version": 3
   },
   "file_extension": ".py",
   "mimetype": "text/x-python",
   "name": "python",
   "nbconvert_exporter": "python",
   "pygments_lexer": "ipython3",
   "version": "3.9.6"
  },
  "orig_nbformat": 4
 },
 "nbformat": 4,
 "nbformat_minor": 2
}
