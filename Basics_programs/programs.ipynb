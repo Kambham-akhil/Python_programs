{
 "cells": [
  {
   "cell_type": "code",
   "execution_count": 3,
   "metadata": {},
   "outputs": [
    {
     "name": "stdout",
     "output_type": "stream",
     "text": [
      "PYSPIDQRS\n",
      "PYSPIDQRS\n"
     ]
    }
   ],
   "source": [
    "#write a statement to replace the old character into a new character of the given string\n",
    "\n",
    "st=\"PYSPIDERS\"\n",
    "res = st[:-3]+\"Q\"+st[-2:]\n",
    "print(res)\n",
    "\n",
    "temp = st[:6]+\"Q\"+st[7:]\n",
    "print(temp)"
   ]
  },
  {
   "cell_type": "code",
   "execution_count": 2,
   "metadata": {},
   "outputs": [
    {
     "name": "stdout",
     "output_type": "stream",
     "text": [
      "QSPIERS\n"
     ]
    }
   ],
   "source": [
    "#WAS to delete the specific character int he given string\n",
    "st=\"QSPIDERS\"\n",
    "res=st[:4]+st[4+1:]\n",
    "print(res)\n"
   ]
  },
  {
   "cell_type": "code",
   "execution_count": 5,
   "metadata": {},
   "outputs": [
    {
     "name": "stdout",
     "output_type": "stream",
     "text": [
      "QSRS\n",
      "QSRS\n",
      "QSRS\n",
      "QSRS\n"
     ]
    }
   ],
   "source": [
    "#WAS to delete the sequence of characters int he given string\n",
    "st=\"QSPIDERS\"\n",
    "res=st[:2]+st[6:]\n",
    "print(res)\n",
    "\n",
    "res=st[:2]+st[-2:]\n",
    "print(res)\n",
    "\n",
    "res=st[:-6]+st[-2:]\n",
    "print(res)\n",
    "\n",
    "res=st[:-6]+st[6:]\n",
    "print(res)"
   ]
  },
  {
   "cell_type": "code",
   "execution_count": 20,
   "metadata": {},
   "outputs": [
    {
     "name": "stdout",
     "output_type": "stream",
     "text": [
      "QSPI123456DERS\n",
      "QSPI123456DERS\n",
      "SRED123456IPSQ\n",
      "SRED123456IPSQ\n"
     ]
    }
   ],
   "source": [
    "#WAS to concat the new stringinto the specific position of the given string\n",
    "st=\"QSPIDERS\"\n",
    "res=st[0:4]+\"123456\"+st[4:]\n",
    "print(res)\n",
    "\n",
    "res=st[0:-4]+\"123456\"+st[-4:]\n",
    "print(res)\n",
    "\n",
    "\n",
    "res=st[-1:-5:-1]+\"123456\"+st[-5::-1]\n",
    "print(res)\n",
    "\n",
    "res=st[:3:-1]+\"123456\"+st[3::-1]\n",
    "print(res)"
   ]
  },
  {
   "cell_type": "code",
   "execution_count": 24,
   "metadata": {},
   "outputs": [
    {
     "name": "stdout",
     "output_type": "stream",
     "text": [
      "[100, 200, 10, 20, 30, 'hello']\n",
      "[10, 20, 30, 'hello'] 2172602798208\n",
      "[100, 200, 10, 20, 30, 'hello'] 2172602798208\n",
      "[100, 200, 10, 20, 30, 'hello']\n"
     ]
    }
   ],
   "source": [
    "#WAS to concat the new value into the starting of the given list\n",
    "l=[10,20,30,\"hello\"]\n",
    "l=[100,200]+l\n",
    "print(l)\n",
    "\n",
    "l=[10,20,30,\"hello\"]\n",
    "print(l,id(l))\n",
    "l[0:0]=[100,200]\n",
    "print(l ,id(l))\n",
    "\n",
    "l=[10,20,30,\"hello\"]\n",
    "t=[100,200]\n",
    "t+=l\n",
    "print(t)"
   ]
  },
  {
   "cell_type": "code",
   "execution_count": 30,
   "metadata": {},
   "outputs": [
    {
     "name": "stdout",
     "output_type": "stream",
     "text": [
      "[10, 20, 30, 'hello', 100, 200]\n",
      "[10, 20, 30, 'hello'] 2172603291840\n",
      "[10, 20, 30, 'hello', 100, 200] 2172603291840\n",
      "[10, 20, 30, 'hello'] 2172624905984\n",
      "[10, 20, 30, 100, 200, 'hello'] 2172624905984\n",
      "[10, 20, 30, 'hello'] 2172603291840\n",
      "[10, 20, 30, 'hello', 100, 200] 2172603291840\n"
     ]
    }
   ],
   "source": [
    "#WAS to concat the new value into the ending of the given list\n",
    "l=[10,20,30,\"hello\"]\n",
    "l=l+[100,200]\n",
    "print(l)\n",
    "\n",
    "l=[10,20,30,\"hello\"]\n",
    "print(l,id(l))\n",
    "l+=[100,200]\n",
    "print(l,id(l))\n",
    "\n",
    "l=[10,20,30,\"hello\"]\n",
    "print(l,id(l))\n",
    "l[-1:-1]=[100,200]#it is not corret way\n",
    "print(l,id(l))\n",
    "\n",
    "l=[10,20,30,\"hello\"]\n",
    "print(l,id(l))\n",
    "l[len(l):len(l)]=[100,200]\n",
    "print(l,id(l))"
   ]
  },
  {
   "cell_type": "code",
   "execution_count": 40,
   "metadata": {},
   "outputs": [
    {
     "name": "stdout",
     "output_type": "stream",
     "text": [
      "[10, 20, 'A', 'hello', 100]\n",
      "[10, 20, 30, 'A', 'hello', 100, 200]\n",
      "[10, 20, 'A', 30, 'hello', 100]\n"
     ]
    }
   ],
   "source": [
    "#WAS to concat the new value into the middle of the given list\n",
    "l=[10,20,30,\"hello\",100]\n",
    "l[len(l)//2]='A'\n",
    "print(l)\n",
    "\n",
    "l=[10,20,30,\"hello\",100,200]\n",
    "l[len(l)//2:len(l)//2]=['A']\n",
    "print(l)\n",
    "\n",
    "l=[10,20,30,\"hello\",100]\n",
    "l[len(l)//2:len(l)//2]=['A']\n",
    "print(l)"
   ]
  },
  {
   "cell_type": "code",
   "execution_count": 49,
   "metadata": {},
   "outputs": [
    {
     "name": "stdout",
     "output_type": "stream",
     "text": [
      "[10, 20, 'world', 30]\n",
      "[10, 20, 'hello', 'world', 'hello', 30]\n",
      "[10, 'world', 'hello', 30]\n",
      "[10, 20, 500, 30]\n",
      "[10, 200, 'hello', 30]\n"
     ]
    }
   ],
   "source": [
    "#WAS to modify the new value into the specific position of the given list\n",
    "\n",
    "l=[10,20,\"hello\",30]\n",
    "l[2]=\"world\"\n",
    "print(l)\n",
    "\n",
    "l=[10,20,\"hello\",30]\n",
    "l[2:2]=[\"hello\",\"world\"]\n",
    "print(l)\n",
    "\n",
    "l=[10,20,\"hello\",30]\n",
    "l[1]=\"world\"\n",
    "print(l)\n",
    "\n",
    "l=[10,20,\"hello\",30]\n",
    "l[2]=500\n",
    "print(l)\n",
    "\n",
    "l=[10,20,\"hello\",30]\n",
    "l[1]=200\n",
    "print(l)"
   ]
  },
  {
   "cell_type": "code",
   "execution_count": 50,
   "metadata": {},
   "outputs": [
    {
     "name": "stdout",
     "output_type": "stream",
     "text": [
      "['world', 20, 'hello', 30]\n"
     ]
    }
   ],
   "source": [
    "#WAS to modify the new value into the starting position of the given list\n",
    "\n",
    "l=[10,20,\"hello\",30]\n",
    "l[0]=\"world\"\n",
    "print(l)\n",
    "\n",
    "\n"
   ]
  },
  {
   "cell_type": "code",
   "execution_count": 52,
   "metadata": {},
   "outputs": [
    {
     "name": "stdout",
     "output_type": "stream",
     "text": [
      "[10, 20, 'world', 30]\n",
      "[10, 20, 'world', 30, 40]\n"
     ]
    }
   ],
   "source": [
    "#WAS to modify the new value into the middle position of the given list\n",
    "\n",
    "l=[10,20,\"hello\",30]\n",
    "l[len(l)//2]=\"world\"\n",
    "print(l)\n",
    "\n",
    "l=[10,20,\"hello\",30,40]\n",
    "l[len(l)//2]=\"world\"\n",
    "print(l)"
   ]
  }
 ],
 "metadata": {
  "kernelspec": {
   "display_name": "Python 3",
   "language": "python",
   "name": "python3"
  },
  "language_info": {
   "codemirror_mode": {
    "name": "ipython",
    "version": 3
   },
   "file_extension": ".py",
   "mimetype": "text/x-python",
   "name": "python",
   "nbconvert_exporter": "python",
   "pygments_lexer": "ipython3",
   "version": "3.9.6"
  },
  "orig_nbformat": 4
 },
 "nbformat": 4,
 "nbformat_minor": 2
}
