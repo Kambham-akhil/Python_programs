{
 "cells": [
  {
   "cell_type": "code",
   "execution_count": 10,
   "metadata": {},
   "outputs": [
    {
     "name": "stdout",
     "output_type": "stream",
     "text": [
      "PYSPIDQRS\n",
      "PYSPIDQRS\n"
     ]
    }
   ],
   "source": [
    "#write a statement to replace the old character into a new character of the given string\n",
    "\n",
    "st=\"PYSPIDERS\"\n",
    "res = st[:-3]+\"Q\"+st[-2:]\n",
    "print(res)\n",
    "\n",
    "temp = st[:6]+\"Q\"+st[7:]\n",
    "print(temp)"
   ]
  },
  {
   "cell_type": "code",
   "execution_count": null,
   "metadata": {},
   "outputs": [],
   "source": []
  },
  {
   "cell_type": "code",
   "execution_count": 9,
   "metadata": {},
   "outputs": [
    {
     "name": "stdout",
     "output_type": "stream",
     "text": [
      "QSPIERS\n"
     ]
    }
   ],
   "source": [
    "#WAS to delete the specific character int he given string\n",
    "st=\"QSPIDERS\"\n",
    "res=st[:4]+st[4+1:]\n",
    "print(res)\n"
   ]
  },
  {
   "cell_type": "code",
   "execution_count": 8,
   "metadata": {},
   "outputs": [
    {
     "name": "stdout",
     "output_type": "stream",
     "text": [
      "QSRS\n",
      "QSRS\n",
      "QSRS\n",
      "QSRS\n"
     ]
    }
   ],
   "source": [
    "#WAS to delete the sequence of characters int he given string\n",
    "st=\"QSPIDERS\"\n",
    "res=st[:2]+st[6:]\n",
    "print(res)\n",
    "\n",
    "res=st[:2]+st[-2:]\n",
    "print(res)\n",
    "\n",
    "res=st[:-6]+st[-2:]\n",
    "print(res)\n",
    "\n",
    "res=st[:-6]+st[6:]\n",
    "print(res)"
   ]
  },
  {
   "cell_type": "code",
   "execution_count": 7,
   "metadata": {},
   "outputs": [
    {
     "name": "stdout",
     "output_type": "stream",
     "text": [
      "QSPI123456DERS\n",
      "QSPI123456DERS\n",
      "SRED123456IPSQ\n",
      "SRED123456IPSQ\n"
     ]
    }
   ],
   "source": [
    "#WAS to concat the new stringinto the specific position of the given string\n",
    "st=\"QSPIDERS\"\n",
    "res=st[0:4]+\"123456\"+st[4:]\n",
    "print(res)\n",
    "\n",
    "res=st[0:-4]+\"123456\"+st[-4:]\n",
    "print(res)\n",
    "\n",
    "\n",
    "res=st[-1:-5:-1]+\"123456\"+st[-5::-1]\n",
    "print(res)\n",
    "\n",
    "res=st[:3:-1]+\"123456\"+st[3::-1]\n",
    "print(res)"
   ]
  },
  {
   "cell_type": "code",
   "execution_count": 6,
   "metadata": {},
   "outputs": [
    {
     "name": "stdout",
     "output_type": "stream",
     "text": [
      "[100, 200, 10, 20, 30, 'hello']\n",
      "[10, 20, 30, 'hello'] 1749936114240\n",
      "[100, 200, 10, 20, 30, 'hello'] 1749936114240\n",
      "[100, 200, 10, 20, 30, 'hello']\n"
     ]
    }
   ],
   "source": [
    "#WAS to concat the new value into the starting of the given list\n",
    "l=[10,20,30,\"hello\"]\n",
    "l=[100,200]+l\n",
    "print(l)\n",
    "\n",
    "l=[10,20,30,\"hello\"]\n",
    "print(l,id(l))\n",
    "l[0:0]=[100,200]\n",
    "print(l ,id(l))\n",
    "\n",
    "l=[10,20,30,\"hello\"]\n",
    "t=[100,200]\n",
    "t+=l\n",
    "print(t)"
   ]
  },
  {
   "cell_type": "code",
   "execution_count": 5,
   "metadata": {},
   "outputs": [
    {
     "name": "stdout",
     "output_type": "stream",
     "text": [
      "[10, 20, 30, 'hello', 100, 200]\n",
      "[10, 20, 30, 'hello'] 1749937278464\n",
      "[10, 20, 30, 'hello', 100, 200] 1749937278464\n",
      "[10, 20, 30, 'hello'] 1749937278208\n",
      "[10, 20, 30, 100, 200, 'hello'] 1749937278208\n",
      "[10, 20, 30, 'hello'] 1749937278464\n",
      "[10, 20, 30, 'hello', 100, 200] 1749937278464\n"
     ]
    }
   ],
   "source": [
    "#WAS to concat the new value into the ending of the given list\n",
    "l=[10,20,30,\"hello\"]\n",
    "l=l+[100,200]\n",
    "print(l)\n",
    "\n",
    "l=[10,20,30,\"hello\"]\n",
    "print(l,id(l))\n",
    "l+=[100,200]\n",
    "print(l,id(l))\n",
    "\n",
    "l=[10,20,30,\"hello\"]\n",
    "print(l,id(l))\n",
    "l[-1:-1]=[100,200]#it is not corret way\n",
    "print(l,id(l))\n",
    "\n",
    "l=[10,20,30,\"hello\"]\n",
    "print(l,id(l))\n",
    "l[len(l):len(l)]=[100,200]\n",
    "print(l,id(l))"
   ]
  },
  {
   "cell_type": "code",
   "execution_count": 4,
   "metadata": {},
   "outputs": [
    {
     "name": "stdout",
     "output_type": "stream",
     "text": [
      "[10, 20, 'A', 'hello', 100]\n",
      "[10, 20, 30, 'A', 'hello', 100, 200]\n",
      "[10, 20, 'A', 30, 'hello', 100]\n"
     ]
    }
   ],
   "source": [
    "#WAS to concat the new value into the middle of the given list\n",
    "l=[10,20,30,\"hello\",100]\n",
    "l[len(l)//2]='A'\n",
    "print(l)\n",
    "\n",
    "l=[10,20,30,\"hello\",100,200]\n",
    "l[len(l)//2:len(l)//2]=['A']\n",
    "print(l)\n",
    "\n",
    "l=[10,20,30,\"hello\",100]\n",
    "l[len(l)//2:len(l)//2]=['A']\n",
    "print(l)"
   ]
  },
  {
   "cell_type": "code",
   "execution_count": 3,
   "metadata": {},
   "outputs": [
    {
     "name": "stdout",
     "output_type": "stream",
     "text": [
      "[10, 20, 'world', 30]\n",
      "[10, 20, 'hello', 'world', 'hello', 30]\n",
      "[10, 'world', 'hello', 30]\n",
      "[10, 20, 500, 30]\n",
      "[10, 200, 'hello', 30]\n"
     ]
    }
   ],
   "source": [
    "#WAS to modify the new value into the specific position of the given list\n",
    "\n",
    "l=[10,20,\"hello\",30]\n",
    "l[2]=\"world\"\n",
    "print(l)\n",
    "\n",
    "l=[10,20,\"hello\",30]\n",
    "l[2:2]=[\"hello\",\"world\"]\n",
    "print(l)\n",
    "\n",
    "l=[10,20,\"hello\",30]\n",
    "l[1]=\"world\"\n",
    "print(l)\n",
    "\n",
    "l=[10,20,\"hello\",30]\n",
    "l[2]=500\n",
    "print(l)\n",
    "\n",
    "l=[10,20,\"hello\",30]\n",
    "l[1]=200\n",
    "print(l)"
   ]
  },
  {
   "cell_type": "code",
   "execution_count": 2,
   "metadata": {},
   "outputs": [
    {
     "name": "stdout",
     "output_type": "stream",
     "text": [
      "['world', 20, 'hello', 30]\n"
     ]
    }
   ],
   "source": [
    "#WAS to modify the new value into the starting position of the given list\n",
    "\n",
    "l=[10,20,\"hello\",30]\n",
    "l[0]=\"world\"\n",
    "print(l)\n",
    "\n",
    "\n"
   ]
  },
  {
   "cell_type": "code",
   "execution_count": 1,
   "metadata": {},
   "outputs": [
    {
     "name": "stdout",
     "output_type": "stream",
     "text": [
      "[10, 20, 'world', 30]\n",
      "[10, 20, 'world', 30, 40]\n"
     ]
    }
   ],
   "source": [
    "#WAS to modify the new value into the middle position of the given list\n",
    "\n",
    "l=[10,20,\"hello\",30]\n",
    "l[len(l)//2]=\"world\"\n",
    "print(l)\n",
    "\n",
    "l=[10,20,\"hello\",30,40]\n",
    "l[len(l)//2]=\"world\"\n",
    "print(l)"
   ]
  },
  {
   "cell_type": "code",
   "execution_count": 16,
   "metadata": {},
   "outputs": [
    {
     "name": "stdout",
     "output_type": "stream",
     "text": [
      "[1, 2, 3, 4, 5, 6, 7]\n",
      "['a', 'b', 'c', 'd', 5, 6, 7]\n"
     ]
    }
   ],
   "source": [
    "#WAS to modify the first 4 positions of the given list\n",
    "l=[1,2,3,4,5,6,7]\n",
    "print(l)\n",
    "l[0:4]=['a','b','c','d']\n",
    "print(l)"
   ]
  },
  {
   "cell_type": "code",
   "execution_count": null,
   "metadata": {},
   "outputs": [],
   "source": [
    "#WAS to delete the  value in the specific position of the given list\n"
   ]
  },
  {
   "cell_type": "code",
   "execution_count": 13,
   "metadata": {},
   "outputs": [
    {
     "name": "stdout",
     "output_type": "stream",
     "text": [
      "[1, 2, 3, 4, 5]\n",
      "[1, 2, 3, 4]\n",
      "[1, 2, 3, 4, 5]\n",
      "[1, 2, 3, 4]\n"
     ]
    }
   ],
   "source": [
    "#WAS to delete the new value into the ending of the list\n",
    "l=[1,2,3,4,5]\n",
    "print(l)\n",
    "del l[-1]\n",
    "print(l)\n",
    "\n",
    "l=[1,2,3,4,5]\n",
    "print(l)\n",
    "del l[len(l)-1]\n",
    "print(l)"
   ]
  },
  {
   "cell_type": "code",
   "execution_count": 6,
   "metadata": {},
   "outputs": [
    {
     "name": "stdout",
     "output_type": "stream",
     "text": [
      "[1, 2, 3, 4, 5, 6, 7]\n",
      "[1, 2, 3, 5, 6, 7]\n",
      "[1, 2, 3, 4, 5, 6]\n",
      "[1, 2, 3, 5, 6]\n"
     ]
    }
   ],
   "source": [
    "#WAS to delete the new value into the middle of the list\n",
    "\n",
    "l=[1,2,3,4,5,6,7]\n",
    "print(l)\n",
    "del l[len(l)//2]\n",
    "print(l)\n",
    "\n",
    "l=[1,2,3,4,5,6]\n",
    "print(l)\n",
    "del l[len(l)//2]\n",
    "print(l)"
   ]
  },
  {
   "cell_type": "code",
   "execution_count": 11,
   "metadata": {},
   "outputs": [
    {
     "name": "stdout",
     "output_type": "stream",
     "text": [
      "[1, 2, 3, 4, 5] 2836611689600\n",
      "[2, 3, 4, 5] 2836611689600\n",
      "[1, 2, 3, 4, 5]\n",
      "[2, 3, 4, 5]\n",
      "[1, 2, 3, 4, 5]\n",
      "[2, 3, 4, 5]\n"
     ]
    }
   ],
   "source": [
    "#WAS to delete the new value into the middle of the list\n",
    "l=[1,2,3,4,5]\n",
    "print(l,id(l))\n",
    "del l[0]\n",
    "print(l,id(l))\n",
    "\n",
    "l=[1,2,3,4,5]\n",
    "print(l)\n",
    "del l[-len(l)]\n",
    "print(l)\n",
    "\n",
    "l=[1,2,3,4,5]\n",
    "print(l)\n",
    "del l[-5]\n",
    "print(l)"
   ]
  },
  {
   "cell_type": "code",
   "execution_count": 24,
   "metadata": {},
   "outputs": [
    {
     "name": "stdout",
     "output_type": "stream",
     "text": [
      "[1, 2, 3, 4, 5, 6]\n",
      "[5, 6]\n",
      "------------------------------\n",
      "[1, 2, 3, 4, 5, 6, 'a', 'b', 'c', 'd']\n",
      "[1, 6, 'a', 'b', 'c', 'd']\n",
      "----------------------------------------\n",
      "[1, 2, 3, 4, 5, 6, 'a', 'b', 'c', 'd']\n",
      "[1, 2, 3, 4, 5, 6]\n"
     ]
    }
   ],
   "source": [
    "#WAS to delete the sequence of values from the list\n",
    "l=[1,2,3,4,5,6]\n",
    "print(l)\n",
    "del l[0:4]\n",
    "print(l)\n",
    "\n",
    "print(\"--\"*15)\n",
    "\n",
    "l=[1,2,3,4,5,6,'a','b','c','d']\n",
    "print(l)\n",
    "del l[4:0:-1]\n",
    "print(l)\n",
    "\n",
    "print(\"--\"*20)\n",
    "\n",
    "l=[1,2,3,4,5,6,'a','b','c','d']\n",
    "print(l)\n",
    "del l[-1:-5:-1]\n",
    "print(l)"
   ]
  },
  {
   "cell_type": "code",
   "execution_count": 26,
   "metadata": {},
   "outputs": [
    {
     "name": "stdout",
     "output_type": "stream",
     "text": [
      "('Hello', 'Good', 'Morning')\n",
      "('Hai', 'Hello', 'Good', 'Morning')\n"
     ]
    }
   ],
   "source": [
    "#WAS to concat the new value into starting of the tuple\n",
    "t=(\"Hello\",\"Good\",\"Morning\")\n",
    "print(t)\n",
    "t=(\"Hai\",)+t\n",
    "print(t)"
   ]
  },
  {
   "cell_type": "code",
   "execution_count": 28,
   "metadata": {},
   "outputs": [
    {
     "name": "stdout",
     "output_type": "stream",
     "text": [
      "('Hello', 'Hai', 'Good', 'Morning')\n",
      "('Hello', 'Hai', [10.2], 'Good', 'Morning')\n"
     ]
    }
   ],
   "source": [
    "#WAS to concat the new value into middle of the tuple\n",
    "t=(\"Hello\",\"Hai\",\"Good\",\"Morning\")\n",
    "print(t)\n",
    "t=t[:(len(t)//2)]+([10.20],)+t[len(t)//2:]\n",
    "print(t)"
   ]
  },
  {
   "cell_type": "code",
   "execution_count": 29,
   "metadata": {},
   "outputs": [
    {
     "name": "stdout",
     "output_type": "stream",
     "text": [
      "('Hello', 'Hai', 'Good', 'Morning')\n",
      "('Hello', 'Hai', 'Good', [10, 20], 'Morning')\n"
     ]
    }
   ],
   "source": [
    "#WAS to concat the new value into the specific position of the tuple\n",
    "t=(\"Hello\",\"Hai\",\"Good\",\"Morning\")\n",
    "print(t)\n",
    "t=t[:3]+([10,20],)+t[3:]\n",
    "print(t)\n"
   ]
  },
  {
   "cell_type": "code",
   "execution_count": 39,
   "metadata": {},
   "outputs": [
    {
     "name": "stdout",
     "output_type": "stream",
     "text": [
      "('Hello', 'Hai', 'Good', 'Morning')\n",
      "('Hello', 'Hai', 'Good', 'Morning', [10, 20])\n",
      "('Hello', 'Hai', 'Good', 'Morning')\n",
      "('Hello', 'Hai', 'Good', 'Morning', 'bye')\n",
      "('Hello', 'Hai', 'Good', 'Morning')\n",
      "('Hello', 'Hai', 'Good', 'Morning', 'bye bye')\n"
     ]
    }
   ],
   "source": [
    "#WAS to concat the new value into the last of the tuple\n",
    "t=(\"Hello\",\"Hai\",\"Good\",\"Morning\")\n",
    "print(t)\n",
    "t=t[0:]+([10,20],)\n",
    "print(t)\n",
    "\n",
    "t=(\"Hello\",\"Hai\",\"Good\",\"Morning\")\n",
    "print(t)\n",
    "t=t+('bye',)\n",
    "print(t)\n",
    "\n",
    "t=(\"Hello\",\"Hai\",\"Good\",\"Morning\")\n",
    "print(t)\n",
    "t+=(\"bye bye\",)\n",
    "print(t)"
   ]
  },
  {
   "cell_type": "code",
   "execution_count": 57,
   "metadata": {},
   "outputs": [
    {
     "name": "stdout",
     "output_type": "stream",
     "text": [
      "('Hello', 'Hai', 'Good', 'Morning')\n",
      "('bye', 'Hai', 'Good', 'Morning')\n",
      "('Hello', 'Hai', 'Good', 'Morning')\n",
      "('Hello', 'Hai', 'Good', 'bye bye')\n",
      "('Hello', 'Hai', 'Good', 'Morning')\n",
      "('Hello', 'Hai', 'afternoon', 'Morning')\n",
      "('Hello', 'Hai', 'Good', 'Morning', 'bye')\n",
      "('Hello', 'Hai', [10, 20], 'bye')\n"
     ]
    }
   ],
   "source": [
    "#WAS to modify the values into the tuple\n",
    "#starting\n",
    "t=(\"Hello\",\"Hai\",\"Good\",\"Morning\")\n",
    "print(t)\n",
    "t=(\"bye\",)+t[1:]\n",
    "print(t)\n",
    "\n",
    "#ending\n",
    "t=(\"Hello\",\"Hai\",\"Good\",\"Morning\")\n",
    "print(t)\n",
    "t=t[:-1]+(\"bye bye\",)\n",
    "print(t)\n",
    "\n",
    "#specific position\n",
    "t=(\"Hello\",\"Hai\",\"Good\",\"Morning\")\n",
    "print(t)\n",
    "t=t[0:2]+(\"afternoon\",)+t[2+1:]\n",
    "print(t)\n",
    "\n",
    "#sequence of values\n",
    "t=(\"Hello\",\"Hai\",\"Good\",\"Morning\",\"bye\")\n",
    "print(t)\n",
    "t=t[0:2]+([10,20],)+t[4:]\n",
    "print(t)\n"
   ]
  },
  {
   "cell_type": "code",
   "execution_count": 62,
   "metadata": {},
   "outputs": [
    {
     "name": "stdout",
     "output_type": "stream",
     "text": [
      "('Hello', 'Hai', 'Good', 'Morning')\n",
      "('Hai', 'Good', 'Morning')\n",
      "('Hello', 'Hai', 'Good', 'Morning')\n",
      "('Hello', 'Hai', 'Good')\n",
      "('Hello', 'Hai', 'Good', 'Morning')\n",
      "('Hello', 'Hai', 'Morning')\n",
      "('Hello', 'Hai', 'Good', 'Morning', 'bye')\n",
      "('Hello', 'Hai', 'bye')\n"
     ]
    }
   ],
   "source": [
    "#WAS to delete the values into the tuple\n",
    "#starting\n",
    "t=(\"Hello\",\"Hai\",\"Good\",\"Morning\")\n",
    "print(t)\n",
    "t=t[1:]\n",
    "print(t)\n",
    "\n",
    "#ending\n",
    "t=(\"Hello\",\"Hai\",\"Good\",\"Morning\")\n",
    "print(t)\n",
    "t=t[0:-1]\n",
    "print(t)\n",
    "\n",
    "#specific position\n",
    "t=(\"Hello\",\"Hai\",\"Good\",\"Morning\")\n",
    "print(t)\n",
    "t=t[0:2]+t[2+1:]\n",
    "print(t)\n",
    "\n",
    "#sequence of values\n",
    "t=(\"Hello\",\"Hai\",\"Good\",\"Morning\",\"bye\")\n",
    "print(t)\n",
    "t=t[0:2]+t[4:]\n",
    "print(t)\n"
   ]
  },
  {
   "cell_type": "code",
   "execution_count": 69,
   "metadata": {},
   "outputs": [
    {
     "name": "stdout",
     "output_type": "stream",
     "text": [
      "{40, 10, 50, 20, 60, 30}\n",
      "{40, 10, 50, 20, 60, 30}\n",
      "{40, 10, 30}\n",
      "{40, 10, 30}\n"
     ]
    }
   ],
   "source": [
    "#WAP to perform the set operations\n",
    "#union/concat\n",
    "s={10,20,30,40}\n",
    "t={20,30,50,60}\n",
    "temp=s|t\n",
    "print(temp)\n",
    "\n",
    "#union/concat/union updation\n",
    "s={10,20,30,40}\n",
    "t={20,30,50,60}\n",
    "s|=t\n",
    "print(s)\n",
    "\n",
    "#different/delete\n",
    "s={10,20,30,40}\n",
    "t={20}\n",
    "temp=s-t\n",
    "print(temp)\n",
    "\n",
    "#union/concat\n",
    "s={10,20,30,40}\n",
    "t={20}\n",
    "s-=t\n",
    "print(s)"
   ]
  },
  {
   "cell_type": "code",
   "execution_count": 75,
   "metadata": {},
   "outputs": [
    {
     "name": "stdout",
     "output_type": "stream",
     "text": [
      "{'a': 10, 'hello': 'bye'}\n",
      "{'a': 10, 'hello': 'bye', 'c': 20}\n",
      "{'a': 10, 'hello': 'bye', 'b': 20, 'c': 30, 'good': 'morning'}\n"
     ]
    }
   ],
   "source": [
    "#WAS to concat the new key and value into the dict\n",
    "\n",
    "d={'a':10,'hello':\"bye\"}\n",
    "print(d)\n",
    "d['c']=20\n",
    "print(d)\n",
    "\n",
    "#union/concat\n",
    "d={'a':10,'hello':\"bye\"}\n",
    "s={'b':20,'c':30,'good':\"morning\"}\n",
    "d|=s\n",
    "print(d)"
   ]
  },
  {
   "cell_type": "code",
   "execution_count": 81,
   "metadata": {},
   "outputs": [
    {
     "name": "stdout",
     "output_type": "stream",
     "text": [
      "{'a': 10, 'hello': 'bye', 'b': 20}\n",
      "{'hello': 'bye', 'b': 20}\n",
      "{'a': 10, 'hello': 'bye', 'b': 20, 'd': 40}\n",
      "{'hello': 'bye'}\n"
     ]
    }
   ],
   "source": [
    "#WAS to delete the specific key and value into the dict\n",
    "d={'a':10,'hello':\"bye\",'b':20}\n",
    "print(d)\n",
    "del d['a']\n",
    "print(d)\n",
    "\n",
    "d={'a':10,'hello':\"bye\",'b':20,'d':40}\n",
    "print(d)\n",
    "del [d['a'],d['d'],d['b']]\n",
    "print(d)\n"
   ]
  },
  {
   "cell_type": "code",
   "execution_count": 2,
   "metadata": {},
   "outputs": [
    {
     "name": "stdout",
     "output_type": "stream",
     "text": [
      "{'a': 10, 'hello': 'bye', 'b': 20, 'd': 40}\n",
      "{'a': 1000, 'hello': 'bye', 'b': 20, 'd': 40}\n",
      "{'a': 10, 'hello': 'bye', 'b': 20, 'd': 40}\n",
      "{'a': 10, 'hello': 'world', 'b': 20, 'd': 40}\n"
     ]
    }
   ],
   "source": [
    "#WAS to modify the specific value in the dict\n",
    "d={'a':10,'hello':\"bye\",'b':20,'d':40}\n",
    "print(d)\n",
    "d['a']=1000\n",
    "print(d)\n",
    "\n",
    "d={'a':10,'hello':\"bye\",'b':20,'d':40}\n",
    "t={'hello':\"world\"}\n",
    "print(d)\n",
    "d|=t\n",
    "print(d)"
   ]
  },
  {
   "cell_type": "code",
   "execution_count": null,
   "metadata": {},
   "outputs": [],
   "source": []
  },
  {
   "cell_type": "code",
   "execution_count": null,
   "metadata": {},
   "outputs": [],
   "source": []
  }
 ],
 "metadata": {
  "kernelspec": {
   "display_name": "Python 3",
   "language": "python",
   "name": "python3"
  },
  "language_info": {
   "codemirror_mode": {
    "name": "ipython",
    "version": 3
   },
   "file_extension": ".py",
   "mimetype": "text/x-python",
   "name": "python",
   "nbconvert_exporter": "python",
   "pygments_lexer": "ipython3",
   "version": "3.9.6"
  },
  "orig_nbformat": 4
 },
 "nbformat": 4,
 "nbformat_minor": 2
}
